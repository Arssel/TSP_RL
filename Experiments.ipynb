{
 "cells": [
  {
   "cell_type": "code",
   "execution_count": 1,
   "metadata": {},
   "outputs": [],
   "source": [
    "%load_ext autoreload\n",
    "\n",
    "%autoreload 2"
   ]
  },
  {
   "cell_type": "markdown",
   "metadata": {},
   "source": [
    "## Learning Improvement Heuristics for Solving the Travelling Salesman Problem (13)\n",
    "\n",
    "Задача состояла в воспроизведении результатов статьи https://arxiv.org/pdf/1912.05784v1.pdf. Статья посвящена улучшению имеющихся решений проблемы коммивояжера с евклидовыми расстояниями между точками с использованием обучения с подкреплением. Были написаны среда и модель для проведения экспериментов. Был написан модуль обучения, но в проведенных экспериментах не получилось достичь точности рассматриваемых авторами solver'ов. Сравнение проивзодилось с API от компании Google OR-Tools."
   ]
  },
  {
   "cell_type": "markdown",
   "metadata": {},
   "source": [
    "### Постановка задачи\n",
    "Опишем среду, действия и награды:\n",
    "1. Множество состояний среды - множество всевозможных перестановок $n$ точек. \n",
    "2. Действия - обращения порядка следования точек в заданной перестановке между двумя выбранными точками.\n",
    "3. Награда - в случае уменьшения суммарного расстояния между точками - разница между суммарным расстоянием до изменения и после, в случае увеличения/не изменения - ноль. \n",
    "\n",
    "В качестве алгоритма обучения использовался Actor-Critic с forward-view равным $k$. "
   ]
  },
  {
   "cell_type": "code",
   "execution_count": 34,
   "metadata": {},
   "outputs": [],
   "source": [
    "from src.architectures import Actor, Critic\n",
    "from src.environment import TSPEnv\n",
    "from src.train import train, train_one_batch\n",
    "from src.heuristics import compute_distance, insert_heuristic, nearest_neighbour\n",
    "from src.utils import sample_nodes\n",
    "from src.presentation import test_metric_by_graph_size, compute_actor_distance\n",
    "\n",
    "import torch\n",
    "import numpy as np\n",
    "import pandas as pd\n",
    "from matplotlib import pyplot as plt\n",
    "import timeit"
   ]
  },
  {
   "cell_type": "code",
   "execution_count": 3,
   "metadata": {},
   "outputs": [],
   "source": [
    "device = torch.device('cuda' if torch.cuda.is_available() else 'cpu')"
   ]
  },
  {
   "cell_type": "markdown",
   "metadata": {},
   "source": [
    "### Использованные гиперпараметры\n",
    "\n",
    "Размер графа - 20 точек. Для каждой эпохи генерируется 10240 графа (batch_size=256). Всего 200 эпох. Learning rate для оптимизатора Adam - $10^{-4}$. Дисконтирующий множетель наград - 0.99. Число шагов в farward-view - 4. Длительность улучшения решения - 200 шагов."
   ]
  },
  {
   "cell_type": "code",
   "execution_count": null,
   "metadata": {},
   "outputs": [],
   "source": [
    "batch_size = 256\n",
    "TSP_size = 20"
   ]
  },
  {
   "cell_type": "code",
   "execution_count": null,
   "metadata": {},
   "outputs": [],
   "source": [
    "actor = Actor().to(device)\n",
    "critic = Critic(batch_size=batch_size, n=TSP_size).to(device)"
   ]
  },
  {
   "cell_type": "code",
   "execution_count": null,
   "metadata": {},
   "outputs": [],
   "source": [
    "train_one_batch(actor, critic, device, batch_size=batch_size, epochs=1, TSP_size=TSP_size, batch_times=40)"
   ]
  },
  {
   "cell_type": "code",
   "execution_count": null,
   "metadata": {},
   "outputs": [],
   "source": [
    "train(actor, critic, device, batch_size=batch_size, epochs=200, TSP_size=TSP_size, batch_times=40)"
   ]
  },
  {
   "cell_type": "code",
   "execution_count": null,
   "metadata": {},
   "outputs": [],
   "source": [
    "torch.save(actor, './models/actor_20_new')"
   ]
  },
  {
   "cell_type": "code",
   "execution_count": null,
   "metadata": {},
   "outputs": [],
   "source": [
    "torch.save(critic, './models/critic_20_new')"
   ]
  },
  {
   "cell_type": "markdown",
   "metadata": {},
   "source": [
    "### Замеры времени (20)"
   ]
  },
  {
   "cell_type": "code",
   "execution_count": 47,
   "metadata": {
    "collapsed": true
   },
   "outputs": [
    {
     "data": {
      "text/plain": [
       "Actor(\n",
       "  (linear_embedding): LinearEmbedding(\n",
       "    (projection): Linear(in_features=2, out_features=128, bias=True)\n",
       "  )\n",
       "  (encoder): Encoder(\n",
       "    (encoder_layers): ModuleList(\n",
       "      (0): EncoderLayer(\n",
       "        (s_att): AttentionLayer(\n",
       "          (linear_v): Linear(in_features=128, out_features=128, bias=True)\n",
       "          (linear_q): Linear(in_features=128, out_features=128, bias=True)\n",
       "          (linear_k): Linear(in_features=128, out_features=128, bias=True)\n",
       "        )\n",
       "        (batch_norm_1): BatchNorm1d(128, eps=1e-05, momentum=0.1, affine=True, track_running_stats=True)\n",
       "        (batch_norm_2): BatchNorm1d(128, eps=1e-05, momentum=0.1, affine=True, track_running_stats=True)\n",
       "        (ff): Sequential(\n",
       "          (0): Linear(in_features=128, out_features=512, bias=True)\n",
       "          (1): ReLU()\n",
       "          (2): Linear(in_features=512, out_features=128, bias=True)\n",
       "        )\n",
       "      )\n",
       "      (1): EncoderLayer(\n",
       "        (s_att): AttentionLayer(\n",
       "          (linear_v): Linear(in_features=128, out_features=128, bias=True)\n",
       "          (linear_q): Linear(in_features=128, out_features=128, bias=True)\n",
       "          (linear_k): Linear(in_features=128, out_features=128, bias=True)\n",
       "        )\n",
       "        (batch_norm_1): BatchNorm1d(128, eps=1e-05, momentum=0.1, affine=True, track_running_stats=True)\n",
       "        (batch_norm_2): BatchNorm1d(128, eps=1e-05, momentum=0.1, affine=True, track_running_stats=True)\n",
       "        (ff): Sequential(\n",
       "          (0): Linear(in_features=128, out_features=512, bias=True)\n",
       "          (1): ReLU()\n",
       "          (2): Linear(in_features=512, out_features=128, bias=True)\n",
       "        )\n",
       "      )\n",
       "      (2): EncoderLayer(\n",
       "        (s_att): AttentionLayer(\n",
       "          (linear_v): Linear(in_features=128, out_features=128, bias=True)\n",
       "          (linear_q): Linear(in_features=128, out_features=128, bias=True)\n",
       "          (linear_k): Linear(in_features=128, out_features=128, bias=True)\n",
       "        )\n",
       "        (batch_norm_1): BatchNorm1d(128, eps=1e-05, momentum=0.1, affine=True, track_running_stats=True)\n",
       "        (batch_norm_2): BatchNorm1d(128, eps=1e-05, momentum=0.1, affine=True, track_running_stats=True)\n",
       "        (ff): Sequential(\n",
       "          (0): Linear(in_features=128, out_features=512, bias=True)\n",
       "          (1): ReLU()\n",
       "          (2): Linear(in_features=512, out_features=128, bias=True)\n",
       "        )\n",
       "      )\n",
       "    )\n",
       "  )\n",
       "  (decoder): DecoderActor(\n",
       "    (linear_graph): Linear(in_features=128, out_features=128, bias=True)\n",
       "    (linear_nodes): Linear(in_features=128, out_features=128, bias=True)\n",
       "    (linear_k): Linear(in_features=128, out_features=128, bias=True)\n",
       "    (linear_q): Linear(in_features=128, out_features=128, bias=True)\n",
       "  )\n",
       ")"
      ]
     },
     "execution_count": 47,
     "metadata": {},
     "output_type": "execute_result"
    }
   ],
   "source": [
    "actor = torch.load('./models/actor_20_new')\n",
    "actor.eval()"
   ]
  },
  {
   "cell_type": "code",
   "execution_count": 48,
   "metadata": {},
   "outputs": [],
   "source": [
    "n = 20\n",
    "batch_size = 256\n",
    "env = TSPEnv(n=n, batch_size=batch_size)"
   ]
  },
  {
   "cell_type": "markdown",
   "metadata": {},
   "source": [
    "#### 1000 шагов улучшения:"
   ]
  },
  {
   "cell_type": "code",
   "execution_count": 49,
   "metadata": {},
   "outputs": [
    {
     "name": "stdout",
     "output_type": "stream",
     "text": [
      "Wall time: 16.2 s\n"
     ]
    }
   ],
   "source": [
    "%%time\n",
    "env.reset(ret=False)\n",
    "actor_distance_1000 = compute_actor_distance(actor, env, 1000, 'cuda')"
   ]
  },
  {
   "cell_type": "code",
   "execution_count": 50,
   "metadata": {},
   "outputs": [
    {
     "data": {
      "text/plain": [
       "356.41708169999765"
      ]
     },
     "execution_count": 50,
     "metadata": {},
     "output_type": "execute_result"
    }
   ],
   "source": [
    "timeit.timeit(lambda: compute_actor_distance(actor, env, 1000, 'cuda'), number=20)"
   ]
  },
  {
   "cell_type": "code",
   "execution_count": 58,
   "metadata": {},
   "outputs": [
    {
     "data": {
      "text/plain": [
       "17.820854084999883"
      ]
     },
     "execution_count": 58,
     "metadata": {},
     "output_type": "execute_result"
    }
   ],
   "source": [
    "356.41708169999765/20"
   ]
  },
  {
   "cell_type": "markdown",
   "metadata": {},
   "source": [
    "#### 3000 шагов улучшения:"
   ]
  },
  {
   "cell_type": "code",
   "execution_count": 51,
   "metadata": {},
   "outputs": [
    {
     "name": "stdout",
     "output_type": "stream",
     "text": [
      "Wall time: 53.4 s\n"
     ]
    }
   ],
   "source": [
    "%%time\n",
    "env.reset(ret=False)\n",
    "actor_distance_3000 = compute_actor_distance(actor, env, 3000, 'cuda')"
   ]
  },
  {
   "cell_type": "code",
   "execution_count": 52,
   "metadata": {},
   "outputs": [
    {
     "data": {
      "text/plain": [
       "1077.4684396000084"
      ]
     },
     "execution_count": 52,
     "metadata": {},
     "output_type": "execute_result"
    }
   ],
   "source": [
    "timeit.timeit(lambda: compute_actor_distance(actor, env, 3000, 'cuda'), number=20)"
   ]
  },
  {
   "cell_type": "code",
   "execution_count": 60,
   "metadata": {},
   "outputs": [
    {
     "data": {
      "text/plain": [
       "53.87342198000042"
      ]
     },
     "execution_count": 60,
     "metadata": {},
     "output_type": "execute_result"
    }
   ],
   "source": [
    "1077.4684396000084/20"
   ]
  },
  {
   "cell_type": "markdown",
   "metadata": {},
   "source": [
    "#### 5000 шагов улучшения:"
   ]
  },
  {
   "cell_type": "code",
   "execution_count": 53,
   "metadata": {},
   "outputs": [
    {
     "name": "stdout",
     "output_type": "stream",
     "text": [
      "Wall time: 1min 30s\n"
     ]
    }
   ],
   "source": [
    "%%time\n",
    "env.reset(ret=False)\n",
    "actor_distance_5000 = compute_actor_distance(actor, env, 5000, 'cuda')"
   ]
  },
  {
   "cell_type": "code",
   "execution_count": 54,
   "metadata": {},
   "outputs": [
    {
     "data": {
      "text/plain": [
       "1763.5407650000125"
      ]
     },
     "execution_count": 54,
     "metadata": {},
     "output_type": "execute_result"
    }
   ],
   "source": [
    "timeit.timeit(lambda: compute_actor_distance(actor, env, 5000, 'cuda'), number=20)"
   ]
  },
  {
   "cell_type": "code",
   "execution_count": 59,
   "metadata": {},
   "outputs": [
    {
     "data": {
      "text/plain": [
       "88.15"
      ]
     },
     "execution_count": 59,
     "metadata": {},
     "output_type": "execute_result"
    }
   ],
   "source": [
    "1763/20"
   ]
  },
  {
   "cell_type": "markdown",
   "metadata": {},
   "source": [
    "Результаты:"
   ]
  },
  {
   "cell_type": "code",
   "execution_count": 55,
   "metadata": {},
   "outputs": [
    {
     "name": "stdout",
     "output_type": "stream",
     "text": [
      "1000 steps: 3.859000273983603\n",
      "3000 steps: 3.856173077983603\n",
      "5000 steps: 3.8554258409153777\n"
     ]
    }
   ],
   "source": [
    "print('1000 steps:', actor_distance_1000.mean())\n",
    "print('3000 steps:', actor_distance_3000.mean())\n",
    "print('5000 steps:', actor_distance_5000.mean())"
   ]
  },
  {
   "cell_type": "markdown",
   "metadata": {},
   "source": [
    "#### OR-tools"
   ]
  },
  {
   "cell_type": "code",
   "execution_count": 56,
   "metadata": {},
   "outputs": [],
   "source": [
    "dots = env.get_dots()\n",
    "distances = env.get_distances()"
   ]
  },
  {
   "cell_type": "code",
   "execution_count": 61,
   "metadata": {},
   "outputs": [
    {
     "name": "stdout",
     "output_type": "stream",
     "text": [
      "Wall time: 18 s\n"
     ]
    }
   ],
   "source": [
    "%%time\n",
    "time_limit = 17.8/batch_size\n",
    "or_1000_distances = []\n",
    "for i in range(batch_size):\n",
    "    or_1000_distances.append(compute_distance(distances[i], time_limit=time_limit))"
   ]
  },
  {
   "cell_type": "code",
   "execution_count": 62,
   "metadata": {},
   "outputs": [
    {
     "name": "stdout",
     "output_type": "stream",
     "text": [
      "Wall time: 54.1 s\n"
     ]
    }
   ],
   "source": [
    "%%time\n",
    "time_limit = 53.8/batch_size\n",
    "or_3000_distances = []\n",
    "for i in range(batch_size):\n",
    "    or_3000_distances.append(compute_distance(distances[i], time_limit=time_limit))"
   ]
  },
  {
   "cell_type": "code",
   "execution_count": 63,
   "metadata": {},
   "outputs": [
    {
     "name": "stdout",
     "output_type": "stream",
     "text": [
      "Wall time: 1min 28s\n"
     ]
    }
   ],
   "source": [
    "%%time\n",
    "time_limit = 88.15/batch_size\n",
    "or_3000_distances = []\n",
    "for i in range(batch_size):\n",
    "    or_3000_distances.append(compute_distance(distances[i], time_limit=time_limit))"
   ]
  },
  {
   "cell_type": "code",
   "execution_count": 64,
   "metadata": {},
   "outputs": [
    {
     "name": "stdout",
     "output_type": "stream",
     "text": [
      "3.8696632031250005\n",
      "3.8556316406250004\n",
      "5.7933573046875\n"
     ]
    }
   ],
   "source": [
    "print(np.mean(or_1000_distances))\n",
    "print(np.mean(or_3000_distances))\n",
    "print(np.mean(or_5000_distances))"
   ]
  },
  {
   "cell_type": "markdown",
   "metadata": {},
   "source": [
    "### Замеры времени (50)"
   ]
  },
  {
   "cell_type": "code",
   "execution_count": 4,
   "metadata": {
    "collapsed": true
   },
   "outputs": [
    {
     "data": {
      "text/plain": [
       "Actor(\n",
       "  (linear_embedding): LinearEmbedding(\n",
       "    (projection): Linear(in_features=2, out_features=128, bias=True)\n",
       "  )\n",
       "  (encoder): Encoder(\n",
       "    (encoder_layers): ModuleList(\n",
       "      (0): EncoderLayer(\n",
       "        (s_att): AttentionLayer(\n",
       "          (linear_v): Linear(in_features=128, out_features=128, bias=True)\n",
       "          (linear_q): Linear(in_features=128, out_features=128, bias=True)\n",
       "          (linear_k): Linear(in_features=128, out_features=128, bias=True)\n",
       "        )\n",
       "        (batch_norm_1): BatchNorm1d(128, eps=1e-05, momentum=0.1, affine=True, track_running_stats=True)\n",
       "        (batch_norm_2): BatchNorm1d(128, eps=1e-05, momentum=0.1, affine=True, track_running_stats=True)\n",
       "        (ff): Sequential(\n",
       "          (0): Linear(in_features=128, out_features=512, bias=True)\n",
       "          (1): ReLU()\n",
       "          (2): Linear(in_features=512, out_features=128, bias=True)\n",
       "        )\n",
       "      )\n",
       "      (1): EncoderLayer(\n",
       "        (s_att): AttentionLayer(\n",
       "          (linear_v): Linear(in_features=128, out_features=128, bias=True)\n",
       "          (linear_q): Linear(in_features=128, out_features=128, bias=True)\n",
       "          (linear_k): Linear(in_features=128, out_features=128, bias=True)\n",
       "        )\n",
       "        (batch_norm_1): BatchNorm1d(128, eps=1e-05, momentum=0.1, affine=True, track_running_stats=True)\n",
       "        (batch_norm_2): BatchNorm1d(128, eps=1e-05, momentum=0.1, affine=True, track_running_stats=True)\n",
       "        (ff): Sequential(\n",
       "          (0): Linear(in_features=128, out_features=512, bias=True)\n",
       "          (1): ReLU()\n",
       "          (2): Linear(in_features=512, out_features=128, bias=True)\n",
       "        )\n",
       "      )\n",
       "      (2): EncoderLayer(\n",
       "        (s_att): AttentionLayer(\n",
       "          (linear_v): Linear(in_features=128, out_features=128, bias=True)\n",
       "          (linear_q): Linear(in_features=128, out_features=128, bias=True)\n",
       "          (linear_k): Linear(in_features=128, out_features=128, bias=True)\n",
       "        )\n",
       "        (batch_norm_1): BatchNorm1d(128, eps=1e-05, momentum=0.1, affine=True, track_running_stats=True)\n",
       "        (batch_norm_2): BatchNorm1d(128, eps=1e-05, momentum=0.1, affine=True, track_running_stats=True)\n",
       "        (ff): Sequential(\n",
       "          (0): Linear(in_features=128, out_features=512, bias=True)\n",
       "          (1): ReLU()\n",
       "          (2): Linear(in_features=512, out_features=128, bias=True)\n",
       "        )\n",
       "      )\n",
       "    )\n",
       "  )\n",
       "  (decoder): DecoderActor(\n",
       "    (linear_graph): Linear(in_features=128, out_features=128, bias=True)\n",
       "    (linear_nodes): Linear(in_features=128, out_features=128, bias=True)\n",
       "    (linear_k): Linear(in_features=128, out_features=128, bias=True)\n",
       "    (linear_q): Linear(in_features=128, out_features=128, bias=True)\n",
       "  )\n",
       ")"
      ]
     },
     "execution_count": 4,
     "metadata": {},
     "output_type": "execute_result"
    }
   ],
   "source": [
    "actor = torch.load('./models/actor_50_new')\n",
    "actor.eval()"
   ]
  },
  {
   "cell_type": "code",
   "execution_count": 5,
   "metadata": {},
   "outputs": [],
   "source": [
    "n = 50\n",
    "batch_size = 256\n",
    "env = TSPEnv(n=n, batch_size=batch_size)"
   ]
  },
  {
   "cell_type": "markdown",
   "metadata": {},
   "source": [
    "#### 1000 шагов улучшения:"
   ]
  },
  {
   "cell_type": "code",
   "execution_count": 6,
   "metadata": {},
   "outputs": [
    {
     "name": "stdout",
     "output_type": "stream",
     "text": [
      "Wall time: 36.2 s\n"
     ]
    }
   ],
   "source": [
    "%%time\n",
    "env.reset(ret=False)\n",
    "actor_distance_1000 = compute_actor_distance(actor, env, 1000, 'cuda')"
   ]
  },
  {
   "cell_type": "code",
   "execution_count": 36,
   "metadata": {},
   "outputs": [
    {
     "data": {
      "text/plain": [
       "707.4920411"
      ]
     },
     "execution_count": 36,
     "metadata": {},
     "output_type": "execute_result"
    }
   ],
   "source": [
    "timeit.timeit(lambda: compute_actor_distance(actor, env, 1000, 'cuda'), number=20)"
   ]
  },
  {
   "cell_type": "code",
   "execution_count": 40,
   "metadata": {},
   "outputs": [
    {
     "data": {
      "text/plain": [
       "35.374602055000004"
      ]
     },
     "execution_count": 40,
     "metadata": {},
     "output_type": "execute_result"
    }
   ],
   "source": [
    "707.4920411/20"
   ]
  },
  {
   "cell_type": "markdown",
   "metadata": {},
   "source": [
    "#### 3000 шагов улучшения:"
   ]
  },
  {
   "cell_type": "code",
   "execution_count": 7,
   "metadata": {},
   "outputs": [
    {
     "name": "stdout",
     "output_type": "stream",
     "text": [
      "Wall time: 1min 44s\n"
     ]
    }
   ],
   "source": [
    "%%time\n",
    "env.reset(ret=False)\n",
    "actor_distance_3000 = compute_actor_distance(actor, env, 3000, 'cuda')"
   ]
  },
  {
   "cell_type": "code",
   "execution_count": 37,
   "metadata": {},
   "outputs": [
    {
     "data": {
      "text/plain": [
       "2151.0882115"
      ]
     },
     "execution_count": 37,
     "metadata": {},
     "output_type": "execute_result"
    }
   ],
   "source": [
    "timeit.timeit(lambda: compute_actor_distance(actor, env, 3000, 'cuda'), number=20)"
   ]
  },
  {
   "cell_type": "code",
   "execution_count": 41,
   "metadata": {},
   "outputs": [
    {
     "data": {
      "text/plain": [
       "107.55441057499999"
      ]
     },
     "execution_count": 41,
     "metadata": {},
     "output_type": "execute_result"
    }
   ],
   "source": [
    "2151.0882115/20"
   ]
  },
  {
   "cell_type": "markdown",
   "metadata": {},
   "source": [
    "#### 5000 шагов улучшения:"
   ]
  },
  {
   "cell_type": "code",
   "execution_count": 8,
   "metadata": {},
   "outputs": [
    {
     "name": "stdout",
     "output_type": "stream",
     "text": [
      "Wall time: 2min 55s\n"
     ]
    }
   ],
   "source": [
    "%%time\n",
    "env.reset(ret=False)\n",
    "actor_distance_5000 = compute_actor_distance(actor, env, 5000, 'cuda')"
   ]
  },
  {
   "cell_type": "code",
   "execution_count": 38,
   "metadata": {},
   "outputs": [
    {
     "data": {
      "text/plain": [
       "3547.4055358000005"
      ]
     },
     "execution_count": 38,
     "metadata": {},
     "output_type": "execute_result"
    }
   ],
   "source": [
    "timeit.timeit(lambda: compute_actor_distance(actor, env, 5000, 'cuda'), number=20)"
   ]
  },
  {
   "cell_type": "code",
   "execution_count": 42,
   "metadata": {},
   "outputs": [
    {
     "data": {
      "text/plain": [
       "177.37027679000002"
      ]
     },
     "execution_count": 42,
     "metadata": {},
     "output_type": "execute_result"
    }
   ],
   "source": [
    "3547.4055358000005/20"
   ]
  },
  {
   "cell_type": "markdown",
   "metadata": {},
   "source": [
    "Средний результат:"
   ]
  },
  {
   "cell_type": "code",
   "execution_count": 45,
   "metadata": {},
   "outputs": [
    {
     "name": "stdout",
     "output_type": "stream",
     "text": [
      "1000 steps: 5.767141451393184\n",
      "3000 steps: 5.727991118555471\n",
      "5000 steps: 5.715007305365751\n"
     ]
    }
   ],
   "source": [
    "print('1000 steps:', actor_distance_1000.mean())\n",
    "print('3000 steps:', actor_distance_3000.mean())\n",
    "print('5000 steps:', actor_distance_5000.mean())"
   ]
  },
  {
   "cell_type": "code",
   "execution_count": 10,
   "metadata": {},
   "outputs": [],
   "source": [
    "dots = env.get_dots()\n",
    "distances = env.get_distances()"
   ]
  },
  {
   "cell_type": "markdown",
   "metadata": {},
   "source": [
    "#### OR-tools"
   ]
  },
  {
   "cell_type": "code",
   "execution_count": 30,
   "metadata": {},
   "outputs": [
    {
     "name": "stdout",
     "output_type": "stream",
     "text": [
      "Wall time: 36.5 s\n"
     ]
    }
   ],
   "source": [
    "%%time\n",
    "time_limit = 35.3/batch_size\n",
    "or_1000_distances = []\n",
    "for i in range(batch_size):\n",
    "    or_1000_distances.append(compute_distance(distances[i], time_limit=time_limit))"
   ]
  },
  {
   "cell_type": "code",
   "execution_count": 31,
   "metadata": {},
   "outputs": [
    {
     "name": "stdout",
     "output_type": "stream",
     "text": [
      "Wall time: 1min 51s\n"
     ]
    }
   ],
   "source": [
    "%%time\n",
    "time_limit = 107/batch_size\n",
    "or_3000_distances = []\n",
    "for i in range(batch_size):\n",
    "    or_3000_distances.append(compute_distance(distances[i], time_limit=time_limit))"
   ]
  },
  {
   "cell_type": "code",
   "execution_count": 32,
   "metadata": {},
   "outputs": [
    {
     "name": "stdout",
     "output_type": "stream",
     "text": [
      "Wall time: 3min 2s\n"
     ]
    }
   ],
   "source": [
    "%%time\n",
    "time_limit = 177/batch_size\n",
    "or_5000_distances = []\n",
    "for i in range(batch_size):\n",
    "    or_5000_distances.append(compute_distance(distances[i], time_limit=time_limit))"
   ]
  },
  {
   "cell_type": "markdown",
   "metadata": {},
   "source": [
    "Результаты:"
   ]
  },
  {
   "cell_type": "code",
   "execution_count": 46,
   "metadata": {},
   "outputs": [
    {
     "name": "stdout",
     "output_type": "stream",
     "text": [
      "5.835260078125\n",
      "5.805540859375\n",
      "5.7933573046875\n"
     ]
    }
   ],
   "source": [
    "print(np.mean(or_1000_distances))\n",
    "print(np.mean(or_3000_distances))\n",
    "print(np.mean(or_5000_distances))"
   ]
  },
  {
   "cell_type": "markdown",
   "metadata": {},
   "source": [
    "### Сравнение на новом графе (50)\n",
    "\n",
    "Случайно инициализированный граф, на котором в течение 5000 шагов производится улучшение случайного начального."
   ]
  },
  {
   "cell_type": "code",
   "execution_count": null,
   "metadata": {},
   "outputs": [],
   "source": [
    "actor = torch.load('./models/actor_50_new')\n",
    "actor.eval()"
   ]
  },
  {
   "cell_type": "code",
   "execution_count": null,
   "metadata": {},
   "outputs": [],
   "source": [
    "n_space = np.arange(41, 60)"
   ]
  },
  {
   "cell_type": "code",
   "execution_count": null,
   "metadata": {
    "scrolled": true
   },
   "outputs": [],
   "source": [
    "results_41_59 = test_metric_by_graph_size(actor, n_space, number_of_graphs=256, window=5000, device='cuda')"
   ]
  },
  {
   "cell_type": "code",
   "execution_count": null,
   "metadata": {},
   "outputs": [],
   "source": [
    "pd.DataFrame(results_41_59).to_csv('results_41_59.csv')"
   ]
  },
  {
   "cell_type": "markdown",
   "metadata": {},
   "source": [
    "### Сравнение на новом графе (20)"
   ]
  },
  {
   "cell_type": "code",
   "execution_count": null,
   "metadata": {},
   "outputs": [],
   "source": [
    "actor = torch.load('./models/actor_20_new')\n",
    "actor.eval()"
   ]
  },
  {
   "cell_type": "code",
   "execution_count": null,
   "metadata": {},
   "outputs": [],
   "source": [
    "n_space = np.arange(11, 30)"
   ]
  },
  {
   "cell_type": "code",
   "execution_count": null,
   "metadata": {
    "scrolled": true
   },
   "outputs": [],
   "source": [
    "results_11_29 = test_metric_by_graph_size(actor, n_space, number_of_graphs=256, window=5000, device='cuda')"
   ]
  },
  {
   "cell_type": "code",
   "execution_count": null,
   "metadata": {},
   "outputs": [],
   "source": [
    "pd.DataFrame(results_11_29).to_csv('results_11_29.csv')"
   ]
  },
  {
   "cell_type": "markdown",
   "metadata": {},
   "source": [
    "### Генерация датасетов"
   ]
  },
  {
   "cell_type": "code",
   "execution_count": null,
   "metadata": {},
   "outputs": [],
   "source": [
    "for n in np.arange(20, 90, 10):\n",
    "    env = TSPEnv(n=n, batch_size=256)\n",
    "    env.save_graph(\"dataset_\"+str(n)+\".pkl\")"
   ]
  },
  {
   "cell_type": "markdown",
   "metadata": {},
   "source": [
    "### Графики обощения"
   ]
  },
  {
   "cell_type": "code",
   "execution_count": null,
   "metadata": {},
   "outputs": [],
   "source": [
    "from matplotlib import pyplot as plt"
   ]
  },
  {
   "cell_type": "code",
   "execution_count": null,
   "metadata": {},
   "outputs": [],
   "source": [
    "df_50 = pd.read_csv('./results/results_50.csv', index_col=0)\n",
    "df_20 = pd.read_csv('./results/results_20.csv', index_col=0)\n",
    "df_10_30 = pd.read_csv('./results/results_11_29.csv', index_col=0)\n",
    "df_40_60 = pd.read_csv('./results/results_41_59.csv', index_col=0)"
   ]
  },
  {
   "cell_type": "code",
   "execution_count": null,
   "metadata": {},
   "outputs": [],
   "source": [
    "columns = ['nearest_neighbour', 'closest_heuristic', 'farthest_heuristic', 'or-tools', 'model']"
   ]
  },
  {
   "cell_type": "code",
   "execution_count": null,
   "metadata": {},
   "outputs": [],
   "source": [
    "index_50 = np.arange(20, 90, 10)\n",
    "index_10_30 = np.arange(11, 30)\n",
    "index_40_60 = np.arange(41, 60)"
   ]
  },
  {
   "cell_type": "code",
   "execution_count": null,
   "metadata": {},
   "outputs": [],
   "source": [
    "df_50.columns = columns\n",
    "df_50.index = index_50\n",
    "df_20.columns = columns\n",
    "df_20.index = index_50\n",
    "df_10_30.columns = columns\n",
    "df_10_30.index = index_10_30\n",
    "df_40_60.columns = columns\n",
    "df_40_60.index = index_40_60"
   ]
  },
  {
   "cell_type": "code",
   "execution_count": null,
   "metadata": {},
   "outputs": [],
   "source": [
    "fig = plt.figure(figsize=(8,8))\n",
    "plt.plot(df_10_30)\n",
    "plt.title('TSP20 for 11-29')\n",
    "plt.legend(columns)\n",
    "plt.grid()\n",
    "plt.xlabel('N - graph size', fontsize=20)\n",
    "plt.ylabel('Average found distance', fontsize=20)\n",
    "plt.savefig('./results/TSP20 for 11-29.png')"
   ]
  },
  {
   "cell_type": "code",
   "execution_count": null,
   "metadata": {},
   "outputs": [],
   "source": [
    "fig = plt.figure(figsize=(8,8))\n",
    "plt.plot(df_20)\n",
    "plt.title('TSP20 for 20-80')\n",
    "plt.legend(columns)\n",
    "plt.grid()\n",
    "plt.xlabel('N - graph size', fontsize=20)\n",
    "plt.ylabel('Average found distance', fontsize=20)\n",
    "plt.savefig('./results/TSP20 for 20-80.png')"
   ]
  },
  {
   "cell_type": "code",
   "execution_count": null,
   "metadata": {},
   "outputs": [],
   "source": [
    "fig = plt.figure(figsize=(8,8))\n",
    "plt.plot(df_50)\n",
    "plt.title('TSP50 for 20-80')\n",
    "plt.legend(columns)\n",
    "plt.grid()\n",
    "plt.xlabel('N - graph size', fontsize=20)\n",
    "plt.ylabel('Average found distance', fontsize=20)\n",
    "plt.savefig('./results/TSP50 for 20-80.png')"
   ]
  },
  {
   "cell_type": "code",
   "execution_count": null,
   "metadata": {},
   "outputs": [],
   "source": [
    "fig = plt.figure(figsize=(8,8))\n",
    "plt.plot(df_40_60)\n",
    "plt.title('TSP50 for 41-59')\n",
    "plt.legend(columns)\n",
    "plt.grid()\n",
    "plt.xlabel('N - graph size', fontsize=20)\n",
    "plt.ylabel('Average found distance', fontsize=20)\n",
    "plt.savefig('./results/TSP50 for 41-59.png')"
   ]
  },
  {
   "cell_type": "code",
   "execution_count": null,
   "metadata": {},
   "outputs": [],
   "source": [
    "fig = plt.figure(figsize=(8,8))\n",
    "plt.plot((df_10_30['model'] - df_10_30['or-tools'])/df_10_30['or-tools']*100)\n",
    "plt.title('TSP20 GAP for 11-29')\n",
    "plt.grid()\n",
    "plt.xlabel('N - graph size', fontsize=20)\n",
    "plt.ylabel('%', fontsize=20)\n",
    "plt.legend(['gap between model and OR-tools'])\n",
    "#plt.savefig('./results/TSP20 GAP for 11-29.png')"
   ]
  },
  {
   "cell_type": "code",
   "execution_count": null,
   "metadata": {},
   "outputs": [],
   "source": [
    "fig = plt.figure(figsize=(8,8))\n",
    "plt.plot((df_20['model'] - df_20['or-tools'])/df_20['or-tools']*100)\n",
    "plt.title('TSP20 GAP for 20-80')\n",
    "plt.grid()\n",
    "plt.xlabel('N - graph size', fontsize=20)\n",
    "plt.ylabel('%', fontsize=20)\n",
    "plt.legend(['gap between model and OR-tools'])\n",
    "plt.savefig('./results/TSP20 GAP for 20-80.png')"
   ]
  },
  {
   "cell_type": "code",
   "execution_count": null,
   "metadata": {},
   "outputs": [],
   "source": [
    "fig = plt.figure(figsize=(8,8))\n",
    "plt.plot((df_50['model'] - df_50['or-tools'])/df_50['or-tools']*100)\n",
    "plt.title('TSP50 GAP for 20-80')\n",
    "plt.grid()\n",
    "plt.xlabel('N - graph size', fontsize=20)\n",
    "plt.ylabel('%', fontsize=20)\n",
    "plt.legend(['gap between model and OR-tools'])\n",
    "plt.savefig('./results/TSP50 GAP for 20-80.png')"
   ]
  },
  {
   "cell_type": "code",
   "execution_count": null,
   "metadata": {
    "scrolled": true
   },
   "outputs": [],
   "source": [
    "fig = plt.figure(figsize=(8,8))\n",
    "plt.plot((df_40_60['model'] - df_40_60['or-tools'])/df_40_60['or-tools']*100)\n",
    "plt.title('TSP50 GAP for 41-59')\n",
    "plt.grid()\n",
    "plt.xlabel('N - graph size', fontsize=20)\n",
    "plt.ylabel('%', fontsize=20)\n",
    "plt.legend(['gap between model and OR-tools'])\n",
    "plt.savefig('./results/TSP50 GAP for 41-59.png')"
   ]
  },
  {
   "cell_type": "markdown",
   "metadata": {},
   "source": [
    "### Анимация простейших эвристик\n",
    "Для графов размера 20"
   ]
  },
  {
   "cell_type": "code",
   "execution_count": null,
   "metadata": {},
   "outputs": [],
   "source": [
    "from src.heuristics import insert_heuristic, nearest_neighbour\n",
    "from src.presentation import get_gif_animation_heuristics"
   ]
  },
  {
   "cell_type": "code",
   "execution_count": null,
   "metadata": {},
   "outputs": [],
   "source": [
    "n = 20\n",
    "env = TSPEnv(n=n, batch_size=1)\n",
    "dots = env.get_dots()\n",
    "distances = env.get_distances()"
   ]
  },
  {
   "cell_type": "markdown",
   "metadata": {},
   "source": [
    "#### Эвристики ближайшей и удаленнейшей вставки"
   ]
  },
  {
   "cell_type": "code",
   "execution_count": null,
   "metadata": {},
   "outputs": [],
   "source": [
    "interval = 1400"
   ]
  },
  {
   "cell_type": "markdown",
   "metadata": {},
   "source": [
    "Удаленнейшая вставка:"
   ]
  },
  {
   "cell_type": "code",
   "execution_count": null,
   "metadata": {},
   "outputs": [],
   "source": [
    "_, _, seq, nodes = insert_heuristic(distances)\n",
    "dots_seq = [dots[:, seq[i],:].squeeze() for i in range(len(seq))]\n",
    "one_dot_seq = [dots[:, nodes[i], :].squeeze() for i in range(len(dots_seq[0])-1, len(nodes))]"
   ]
  },
  {
   "cell_type": "code",
   "execution_count": null,
   "metadata": {},
   "outputs": [],
   "source": [
    "get_gif_animation_heuristics('./results/remote_gif_20.gif', dots_seq, one_dot_seq, interval)"
   ]
  },
  {
   "cell_type": "markdown",
   "metadata": {},
   "source": [
    "Ближайшая вставка:"
   ]
  },
  {
   "cell_type": "code",
   "execution_count": null,
   "metadata": {},
   "outputs": [],
   "source": [
    "_, _, seq, nodes = insert_heuristic(distances, insert_type='close')\n",
    "dots_seq = [dots[:, seq[i],:].squeeze() for i in range(len(seq))]\n",
    "one_dot_seq = [dots[:, nodes[i], :].squeeze() for i in range(len(dots_seq[0])-1, len(nodes))]"
   ]
  },
  {
   "cell_type": "code",
   "execution_count": null,
   "metadata": {},
   "outputs": [],
   "source": [
    "get_gif_animation_heuristics('./results/close_gif_20.gif', dots_seq, one_dot_seq, interval)"
   ]
  },
  {
   "cell_type": "markdown",
   "metadata": {},
   "source": [
    "#### Эвристика ближайшего соседа"
   ]
  },
  {
   "cell_type": "code",
   "execution_count": null,
   "metadata": {},
   "outputs": [],
   "source": [
    "_, _, seq, nodes = nearest_neighbour(distances)\n",
    "dots_seq = [dots[:, seq[i],:].squeeze() for i in range(len(seq))]\n",
    "one_dot_seq = [dots[:, nodes[i], :].squeeze() for i in range(len(dots_seq[0])-1, len(nodes))]"
   ]
  },
  {
   "cell_type": "code",
   "execution_count": null,
   "metadata": {
    "scrolled": true
   },
   "outputs": [],
   "source": [
    "get_gif_animation_heuristics('./results/nearest_neighbour_20.gif', dots_seq, one_dot_seq, interval)"
   ]
  }
 ],
 "metadata": {
  "kernelspec": {
   "display_name": "Python 3",
   "language": "python",
   "name": "python3"
  },
  "language_info": {
   "codemirror_mode": {
    "name": "ipython",
    "version": 3
   },
   "file_extension": ".py",
   "mimetype": "text/x-python",
   "name": "python",
   "nbconvert_exporter": "python",
   "pygments_lexer": "ipython3",
   "version": "3.7.6"
  }
 },
 "nbformat": 4,
 "nbformat_minor": 4
}
