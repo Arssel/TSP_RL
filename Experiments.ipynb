{
 "cells": [
  {
   "cell_type": "code",
   "execution_count": 1,
   "metadata": {},
   "outputs": [],
   "source": [
    "%load_ext autoreload\n",
    "\n",
    "%autoreload 2"
   ]
  },
  {
   "cell_type": "markdown",
   "metadata": {},
   "source": [
    "## Learning Improvement Heuristics for Solving the Travelling Salesman Problem (13)\n",
    "\n",
    "Задача состояла в воспроизведении результатов статьи https://arxiv.org/pdf/1912.05784v1.pdf. Статья посвящена улучшению имеющихся решений проблемы коммивояжера с евклидовыми расстояниями между точками с использованием обучения с подкреплением. Были написаны среда и модель для проведения экспериментов. Был написан модуль обучения, но в проведенных экспериментах не получилось достичь точности рассматриваемых авторами solver'ов. Сравнение проивзодилось с API от компании Google OR-Tools."
   ]
  },
  {
   "cell_type": "markdown",
   "metadata": {},
   "source": [
    "### Постановка задачи\n",
    "Опишем среду, действия и награды:\n",
    "1. Множество состояний среды - множество всевозможных перестановок $n$ точек. \n",
    "2. Действия - обращения порядка следования точек в заданной перестановке между двумя выбранными точками.\n",
    "3. Награда - в случае уменьшения суммарного расстояния между точками - разница между суммарным расстоянием до изменения и после, в случае увеличения/не изменения - ноль. \n",
    "\n",
    "В качестве алгоритма обучения использовался Actor-Critic с forward-view равным $k$. "
   ]
  },
  {
   "cell_type": "code",
   "execution_count": 2,
   "metadata": {},
   "outputs": [],
   "source": [
    "from src.architectures import Actor, Critic\n",
    "from src.environment import TSPEnv\n",
    "from src.train import train, train_one_batch\n",
    "from src.heuristics import compute_distance\n",
    "from src.utils import sample_nodes\n",
    "\n",
    "import torch\n",
    "import numpy as np\n",
    "\n",
    "from matplotlib import pyplot as plt\n",
    "\n",
    "from src.presentation import test_metric_by_graph_size\n",
    "\n",
    "import pandas as pd"
   ]
  },
  {
   "cell_type": "code",
   "execution_count": 3,
   "metadata": {},
   "outputs": [],
   "source": [
    "device = torch.device('cuda' if torch.cuda.is_available() else 'cpu')"
   ]
  },
  {
   "cell_type": "markdown",
   "metadata": {},
   "source": [
    "### Использованные гиперпараметры\n",
    "\n",
    "Размер графа - 20 точек. Для каждой эпохи генерируется 10240 графа (batch_size=256). Всего 200 эпох. Learning rate для оптимизатора Adam - $10^{-4}$. Дисконтирующий множетель наград - 0.99. Число шагов в farward-view - 4. Длительность улучшения решения - 200 шагов."
   ]
  },
  {
   "cell_type": "code",
   "execution_count": null,
   "metadata": {},
   "outputs": [],
   "source": [
    "batch_size = 256\n",
    "TSP_size = 20"
   ]
  },
  {
   "cell_type": "code",
   "execution_count": null,
   "metadata": {},
   "outputs": [],
   "source": [
    "actor = Actor().to(device)\n",
    "critic = Critic(batch_size=batch_size, n=TSP_size).to(device)"
   ]
  },
  {
   "cell_type": "code",
   "execution_count": null,
   "metadata": {},
   "outputs": [],
   "source": [
    "#actor.train()\n",
    "#critic.train()"
   ]
  },
  {
   "cell_type": "code",
   "execution_count": null,
   "metadata": {},
   "outputs": [],
   "source": [
    "%%time\n",
    "train_one_batch(actor, critic, device, batch_size=batch_size, epochs=1, TSP_size=TSP_size, batch_times=40)"
   ]
  },
  {
   "cell_type": "code",
   "execution_count": null,
   "metadata": {},
   "outputs": [],
   "source": [
    "%%time\n",
    "train(actor, critic, device, batch_size=batch_size, epochs=200, TSP_size=TSP_size, batch_times=40)"
   ]
  },
  {
   "cell_type": "code",
   "execution_count": null,
   "metadata": {},
   "outputs": [],
   "source": [
    "torch.save(actor, 'actor_20_new')"
   ]
  },
  {
   "cell_type": "code",
   "execution_count": null,
   "metadata": {},
   "outputs": [],
   "source": [
    "torch.save(critic, 'critic_20_new')"
   ]
  },
  {
   "cell_type": "markdown",
   "metadata": {},
   "source": [
    "### Сравнение на новом графе\n",
    "\n",
    "Случайно инициализированный граф, на котором в течение 5000 шагов производится улучшение случайного начального."
   ]
  },
  {
   "cell_type": "code",
   "execution_count": 19,
   "metadata": {
    "collapsed": true
   },
   "outputs": [
    {
     "data": {
      "text/plain": [
       "Actor(\n",
       "  (linear_embedding): LinearEmbedding(\n",
       "    (projection): Linear(in_features=2, out_features=128, bias=True)\n",
       "  )\n",
       "  (encoder): Encoder(\n",
       "    (encoder_layers): ModuleList(\n",
       "      (0): EncoderLayer(\n",
       "        (s_att): AttentionLayer(\n",
       "          (linear_v): Linear(in_features=128, out_features=128, bias=True)\n",
       "          (linear_q): Linear(in_features=128, out_features=128, bias=True)\n",
       "          (linear_k): Linear(in_features=128, out_features=128, bias=True)\n",
       "        )\n",
       "        (batch_norm_1): BatchNorm1d(128, eps=1e-05, momentum=0.1, affine=True, track_running_stats=True)\n",
       "        (batch_norm_2): BatchNorm1d(128, eps=1e-05, momentum=0.1, affine=True, track_running_stats=True)\n",
       "        (ff): Sequential(\n",
       "          (0): Linear(in_features=128, out_features=512, bias=True)\n",
       "          (1): ReLU()\n",
       "          (2): Linear(in_features=512, out_features=128, bias=True)\n",
       "        )\n",
       "      )\n",
       "      (1): EncoderLayer(\n",
       "        (s_att): AttentionLayer(\n",
       "          (linear_v): Linear(in_features=128, out_features=128, bias=True)\n",
       "          (linear_q): Linear(in_features=128, out_features=128, bias=True)\n",
       "          (linear_k): Linear(in_features=128, out_features=128, bias=True)\n",
       "        )\n",
       "        (batch_norm_1): BatchNorm1d(128, eps=1e-05, momentum=0.1, affine=True, track_running_stats=True)\n",
       "        (batch_norm_2): BatchNorm1d(128, eps=1e-05, momentum=0.1, affine=True, track_running_stats=True)\n",
       "        (ff): Sequential(\n",
       "          (0): Linear(in_features=128, out_features=512, bias=True)\n",
       "          (1): ReLU()\n",
       "          (2): Linear(in_features=512, out_features=128, bias=True)\n",
       "        )\n",
       "      )\n",
       "      (2): EncoderLayer(\n",
       "        (s_att): AttentionLayer(\n",
       "          (linear_v): Linear(in_features=128, out_features=128, bias=True)\n",
       "          (linear_q): Linear(in_features=128, out_features=128, bias=True)\n",
       "          (linear_k): Linear(in_features=128, out_features=128, bias=True)\n",
       "        )\n",
       "        (batch_norm_1): BatchNorm1d(128, eps=1e-05, momentum=0.1, affine=True, track_running_stats=True)\n",
       "        (batch_norm_2): BatchNorm1d(128, eps=1e-05, momentum=0.1, affine=True, track_running_stats=True)\n",
       "        (ff): Sequential(\n",
       "          (0): Linear(in_features=128, out_features=512, bias=True)\n",
       "          (1): ReLU()\n",
       "          (2): Linear(in_features=512, out_features=128, bias=True)\n",
       "        )\n",
       "      )\n",
       "    )\n",
       "  )\n",
       "  (decoder): DecoderActor(\n",
       "    (linear_graph): Linear(in_features=128, out_features=128, bias=True)\n",
       "    (linear_nodes): Linear(in_features=128, out_features=128, bias=True)\n",
       "    (linear_k): Linear(in_features=128, out_features=128, bias=True)\n",
       "    (linear_q): Linear(in_features=128, out_features=128, bias=True)\n",
       "  )\n",
       ")"
      ]
     },
     "execution_count": 19,
     "metadata": {},
     "output_type": "execute_result"
    }
   ],
   "source": [
    "actor = torch.load('actor_50_new')\n",
    "actor.eval()"
   ]
  },
  {
   "cell_type": "code",
   "execution_count": 20,
   "metadata": {},
   "outputs": [],
   "source": [
    "n_space = np.arange(41, 60)"
   ]
  },
  {
   "cell_type": "code",
   "execution_count": 21,
   "metadata": {
    "scrolled": true
   },
   "outputs": [
    {
     "name": "stderr",
     "output_type": "stream",
     "text": [
      "100%|██████████████████████████████████████████████████████████████████████████████| 19/19 [8:06:47<00:00, 1537.26s/it]\n"
     ]
    }
   ],
   "source": [
    "results_41_59 = test_metric_by_graph_size(actor, n_space, number_of_graphs=256, window=5000, device='cuda')"
   ]
  },
  {
   "cell_type": "code",
   "execution_count": 22,
   "metadata": {},
   "outputs": [],
   "source": [
    "pd.DataFrame(results_41_59).to_csv('results_41_59.csv')"
   ]
  },
  {
   "cell_type": "code",
   "execution_count": 29,
   "metadata": {
    "collapsed": true
   },
   "outputs": [
    {
     "data": {
      "text/html": [
       "<div>\n",
       "<style scoped>\n",
       "    .dataframe tbody tr th:only-of-type {\n",
       "        vertical-align: middle;\n",
       "    }\n",
       "\n",
       "    .dataframe tbody tr th {\n",
       "        vertical-align: top;\n",
       "    }\n",
       "\n",
       "    .dataframe thead th {\n",
       "        text-align: right;\n",
       "    }\n",
       "</style>\n",
       "<table border=\"1\" class=\"dataframe\">\n",
       "  <thead>\n",
       "    <tr style=\"text-align: right;\">\n",
       "      <th></th>\n",
       "      <th>0</th>\n",
       "      <th>1</th>\n",
       "      <th>2</th>\n",
       "      <th>3</th>\n",
       "      <th>4</th>\n",
       "    </tr>\n",
       "  </thead>\n",
       "  <tbody>\n",
       "    <tr>\n",
       "      <th>0</th>\n",
       "      <td>6.360218</td>\n",
       "      <td>6.142741</td>\n",
       "      <td>5.871025</td>\n",
       "      <td>5.211498</td>\n",
       "      <td>5.424108</td>\n",
       "    </tr>\n",
       "    <tr>\n",
       "      <th>1</th>\n",
       "      <td>6.424158</td>\n",
       "      <td>6.194273</td>\n",
       "      <td>5.947962</td>\n",
       "      <td>5.276341</td>\n",
       "      <td>5.488276</td>\n",
       "    </tr>\n",
       "    <tr>\n",
       "      <th>2</th>\n",
       "      <td>6.478531</td>\n",
       "      <td>6.276681</td>\n",
       "      <td>6.040464</td>\n",
       "      <td>5.321423</td>\n",
       "      <td>5.445355</td>\n",
       "    </tr>\n",
       "    <tr>\n",
       "      <th>3</th>\n",
       "      <td>6.600639</td>\n",
       "      <td>6.364800</td>\n",
       "      <td>6.097294</td>\n",
       "      <td>5.393400</td>\n",
       "      <td>5.556773</td>\n",
       "    </tr>\n",
       "    <tr>\n",
       "      <th>4</th>\n",
       "      <td>6.661191</td>\n",
       "      <td>6.431020</td>\n",
       "      <td>6.177984</td>\n",
       "      <td>5.448217</td>\n",
       "      <td>5.631172</td>\n",
       "    </tr>\n",
       "    <tr>\n",
       "      <th>5</th>\n",
       "      <td>6.751721</td>\n",
       "      <td>6.524958</td>\n",
       "      <td>6.279281</td>\n",
       "      <td>5.521636</td>\n",
       "      <td>5.680986</td>\n",
       "    </tr>\n",
       "    <tr>\n",
       "      <th>6</th>\n",
       "      <td>6.797436</td>\n",
       "      <td>6.596697</td>\n",
       "      <td>6.288920</td>\n",
       "      <td>5.562431</td>\n",
       "      <td>5.688661</td>\n",
       "    </tr>\n",
       "    <tr>\n",
       "      <th>7</th>\n",
       "      <td>6.831404</td>\n",
       "      <td>6.633239</td>\n",
       "      <td>6.362226</td>\n",
       "      <td>5.591525</td>\n",
       "      <td>5.745773</td>\n",
       "    </tr>\n",
       "    <tr>\n",
       "      <th>8</th>\n",
       "      <td>6.902143</td>\n",
       "      <td>6.698092</td>\n",
       "      <td>6.453309</td>\n",
       "      <td>5.654195</td>\n",
       "      <td>5.739953</td>\n",
       "    </tr>\n",
       "    <tr>\n",
       "      <th>9</th>\n",
       "      <td>7.021567</td>\n",
       "      <td>6.768352</td>\n",
       "      <td>6.518591</td>\n",
       "      <td>5.724924</td>\n",
       "      <td>5.722515</td>\n",
       "    </tr>\n",
       "    <tr>\n",
       "      <th>10</th>\n",
       "      <td>7.025372</td>\n",
       "      <td>6.866768</td>\n",
       "      <td>6.592686</td>\n",
       "      <td>5.780520</td>\n",
       "      <td>5.839780</td>\n",
       "    </tr>\n",
       "    <tr>\n",
       "      <th>11</th>\n",
       "      <td>7.136087</td>\n",
       "      <td>6.924492</td>\n",
       "      <td>6.676583</td>\n",
       "      <td>5.833916</td>\n",
       "      <td>6.177546</td>\n",
       "    </tr>\n",
       "    <tr>\n",
       "      <th>12</th>\n",
       "      <td>7.144983</td>\n",
       "      <td>6.982544</td>\n",
       "      <td>6.706455</td>\n",
       "      <td>5.875749</td>\n",
       "      <td>6.625236</td>\n",
       "    </tr>\n",
       "    <tr>\n",
       "      <th>13</th>\n",
       "      <td>7.237800</td>\n",
       "      <td>7.040665</td>\n",
       "      <td>6.749893</td>\n",
       "      <td>5.927374</td>\n",
       "      <td>6.986372</td>\n",
       "    </tr>\n",
       "    <tr>\n",
       "      <th>14</th>\n",
       "      <td>7.286160</td>\n",
       "      <td>7.106241</td>\n",
       "      <td>6.857371</td>\n",
       "      <td>5.979467</td>\n",
       "      <td>7.384275</td>\n",
       "    </tr>\n",
       "    <tr>\n",
       "      <th>15</th>\n",
       "      <td>7.407737</td>\n",
       "      <td>7.162403</td>\n",
       "      <td>6.912931</td>\n",
       "      <td>6.038864</td>\n",
       "      <td>8.080745</td>\n",
       "    </tr>\n",
       "    <tr>\n",
       "      <th>16</th>\n",
       "      <td>7.426218</td>\n",
       "      <td>7.264204</td>\n",
       "      <td>7.023976</td>\n",
       "      <td>6.111845</td>\n",
       "      <td>8.411860</td>\n",
       "    </tr>\n",
       "    <tr>\n",
       "      <th>17</th>\n",
       "      <td>7.467335</td>\n",
       "      <td>7.258348</td>\n",
       "      <td>7.012218</td>\n",
       "      <td>6.130851</td>\n",
       "      <td>8.891429</td>\n",
       "    </tr>\n",
       "    <tr>\n",
       "      <th>18</th>\n",
       "      <td>7.592812</td>\n",
       "      <td>7.336512</td>\n",
       "      <td>7.095918</td>\n",
       "      <td>6.188158</td>\n",
       "      <td>9.358729</td>\n",
       "    </tr>\n",
       "  </tbody>\n",
       "</table>\n",
       "</div>"
      ],
      "text/plain": [
       "           0         1         2         3         4\n",
       "0   6.360218  6.142741  5.871025  5.211498  5.424108\n",
       "1   6.424158  6.194273  5.947962  5.276341  5.488276\n",
       "2   6.478531  6.276681  6.040464  5.321423  5.445355\n",
       "3   6.600639  6.364800  6.097294  5.393400  5.556773\n",
       "4   6.661191  6.431020  6.177984  5.448217  5.631172\n",
       "5   6.751721  6.524958  6.279281  5.521636  5.680986\n",
       "6   6.797436  6.596697  6.288920  5.562431  5.688661\n",
       "7   6.831404  6.633239  6.362226  5.591525  5.745773\n",
       "8   6.902143  6.698092  6.453309  5.654195  5.739953\n",
       "9   7.021567  6.768352  6.518591  5.724924  5.722515\n",
       "10  7.025372  6.866768  6.592686  5.780520  5.839780\n",
       "11  7.136087  6.924492  6.676583  5.833916  6.177546\n",
       "12  7.144983  6.982544  6.706455  5.875749  6.625236\n",
       "13  7.237800  7.040665  6.749893  5.927374  6.986372\n",
       "14  7.286160  7.106241  6.857371  5.979467  7.384275\n",
       "15  7.407737  7.162403  6.912931  6.038864  8.080745\n",
       "16  7.426218  7.264204  7.023976  6.111845  8.411860\n",
       "17  7.467335  7.258348  7.012218  6.130851  8.891429\n",
       "18  7.592812  7.336512  7.095918  6.188158  9.358729"
      ]
     },
     "execution_count": 29,
     "metadata": {},
     "output_type": "execute_result"
    }
   ],
   "source": [
    "pd.DataFrame(results_41_59)"
   ]
  },
  {
   "cell_type": "markdown",
   "metadata": {},
   "source": [
    "### Сравнение на новом графе"
   ]
  },
  {
   "cell_type": "code",
   "execution_count": 23,
   "metadata": {
    "collapsed": true
   },
   "outputs": [
    {
     "data": {
      "text/plain": [
       "Actor(\n",
       "  (linear_embedding): LinearEmbedding(\n",
       "    (projection): Linear(in_features=2, out_features=128, bias=True)\n",
       "  )\n",
       "  (encoder): Encoder(\n",
       "    (encoder_layers): ModuleList(\n",
       "      (0): EncoderLayer(\n",
       "        (s_att): AttentionLayer(\n",
       "          (linear_v): Linear(in_features=128, out_features=128, bias=True)\n",
       "          (linear_q): Linear(in_features=128, out_features=128, bias=True)\n",
       "          (linear_k): Linear(in_features=128, out_features=128, bias=True)\n",
       "        )\n",
       "        (batch_norm_1): BatchNorm1d(128, eps=1e-05, momentum=0.1, affine=True, track_running_stats=True)\n",
       "        (batch_norm_2): BatchNorm1d(128, eps=1e-05, momentum=0.1, affine=True, track_running_stats=True)\n",
       "        (ff): Sequential(\n",
       "          (0): Linear(in_features=128, out_features=512, bias=True)\n",
       "          (1): ReLU()\n",
       "          (2): Linear(in_features=512, out_features=128, bias=True)\n",
       "        )\n",
       "      )\n",
       "      (1): EncoderLayer(\n",
       "        (s_att): AttentionLayer(\n",
       "          (linear_v): Linear(in_features=128, out_features=128, bias=True)\n",
       "          (linear_q): Linear(in_features=128, out_features=128, bias=True)\n",
       "          (linear_k): Linear(in_features=128, out_features=128, bias=True)\n",
       "        )\n",
       "        (batch_norm_1): BatchNorm1d(128, eps=1e-05, momentum=0.1, affine=True, track_running_stats=True)\n",
       "        (batch_norm_2): BatchNorm1d(128, eps=1e-05, momentum=0.1, affine=True, track_running_stats=True)\n",
       "        (ff): Sequential(\n",
       "          (0): Linear(in_features=128, out_features=512, bias=True)\n",
       "          (1): ReLU()\n",
       "          (2): Linear(in_features=512, out_features=128, bias=True)\n",
       "        )\n",
       "      )\n",
       "      (2): EncoderLayer(\n",
       "        (s_att): AttentionLayer(\n",
       "          (linear_v): Linear(in_features=128, out_features=128, bias=True)\n",
       "          (linear_q): Linear(in_features=128, out_features=128, bias=True)\n",
       "          (linear_k): Linear(in_features=128, out_features=128, bias=True)\n",
       "        )\n",
       "        (batch_norm_1): BatchNorm1d(128, eps=1e-05, momentum=0.1, affine=True, track_running_stats=True)\n",
       "        (batch_norm_2): BatchNorm1d(128, eps=1e-05, momentum=0.1, affine=True, track_running_stats=True)\n",
       "        (ff): Sequential(\n",
       "          (0): Linear(in_features=128, out_features=512, bias=True)\n",
       "          (1): ReLU()\n",
       "          (2): Linear(in_features=512, out_features=128, bias=True)\n",
       "        )\n",
       "      )\n",
       "    )\n",
       "  )\n",
       "  (decoder): DecoderActor(\n",
       "    (linear_graph): Linear(in_features=128, out_features=128, bias=True)\n",
       "    (linear_nodes): Linear(in_features=128, out_features=128, bias=True)\n",
       "    (linear_k): Linear(in_features=128, out_features=128, bias=True)\n",
       "    (linear_q): Linear(in_features=128, out_features=128, bias=True)\n",
       "  )\n",
       ")"
      ]
     },
     "execution_count": 23,
     "metadata": {},
     "output_type": "execute_result"
    }
   ],
   "source": [
    "actor = torch.load('actor_20_new')\n",
    "actor.eval()"
   ]
  },
  {
   "cell_type": "code",
   "execution_count": 24,
   "metadata": {},
   "outputs": [],
   "source": [
    "n_space = np.arange(11, 30)"
   ]
  },
  {
   "cell_type": "code",
   "execution_count": 25,
   "metadata": {
    "scrolled": true
   },
   "outputs": [
    {
     "name": "stderr",
     "output_type": "stream",
     "text": [
      "100%|██████████████████████████████████████████████████████████████████████████████| 19/19 [7:11:03<00:00, 1361.26s/it]\n"
     ]
    }
   ],
   "source": [
    "results_11_29 = test_metric_by_graph_size(actor, n_space, number_of_graphs=256, window=5000, device='cuda')"
   ]
  },
  {
   "cell_type": "code",
   "execution_count": 26,
   "metadata": {},
   "outputs": [],
   "source": [
    "pd.DataFrame(results_11_29).to_csv('results_11_29.csv')"
   ]
  },
  {
   "cell_type": "code",
   "execution_count": 41,
   "metadata": {},
   "outputs": [
    {
     "data": {
      "text/html": [
       "<div>\n",
       "<style scoped>\n",
       "    .dataframe tbody tr th:only-of-type {\n",
       "        vertical-align: middle;\n",
       "    }\n",
       "\n",
       "    .dataframe tbody tr th {\n",
       "        vertical-align: top;\n",
       "    }\n",
       "\n",
       "    .dataframe thead th {\n",
       "        text-align: right;\n",
       "    }\n",
       "</style>\n",
       "<table border=\"1\" class=\"dataframe\">\n",
       "  <thead>\n",
       "    <tr style=\"text-align: right;\">\n",
       "      <th></th>\n",
       "      <th>0</th>\n",
       "      <th>1</th>\n",
       "      <th>2</th>\n",
       "      <th>3</th>\n",
       "      <th>4</th>\n",
       "    </tr>\n",
       "  </thead>\n",
       "  <tbody>\n",
       "    <tr>\n",
       "      <th>0</th>\n",
       "      <td>3.325303</td>\n",
       "      <td>3.152916</td>\n",
       "      <td>3.048950</td>\n",
       "      <td>2.956632</td>\n",
       "      <td>2.966594</td>\n",
       "    </tr>\n",
       "    <tr>\n",
       "      <th>1</th>\n",
       "      <td>3.453712</td>\n",
       "      <td>3.338311</td>\n",
       "      <td>3.191310</td>\n",
       "      <td>3.085769</td>\n",
       "      <td>3.111881</td>\n",
       "    </tr>\n",
       "    <tr>\n",
       "      <th>2</th>\n",
       "      <td>3.598899</td>\n",
       "      <td>3.467672</td>\n",
       "      <td>3.311438</td>\n",
       "      <td>3.189716</td>\n",
       "      <td>3.201872</td>\n",
       "    </tr>\n",
       "    <tr>\n",
       "      <th>3</th>\n",
       "      <td>3.760404</td>\n",
       "      <td>3.638880</td>\n",
       "      <td>3.472667</td>\n",
       "      <td>3.322840</td>\n",
       "      <td>3.338587</td>\n",
       "    </tr>\n",
       "    <tr>\n",
       "      <th>4</th>\n",
       "      <td>3.941111</td>\n",
       "      <td>3.756387</td>\n",
       "      <td>3.608352</td>\n",
       "      <td>3.414094</td>\n",
       "      <td>3.429301</td>\n",
       "    </tr>\n",
       "    <tr>\n",
       "      <th>5</th>\n",
       "      <td>4.067076</td>\n",
       "      <td>3.867279</td>\n",
       "      <td>3.728955</td>\n",
       "      <td>3.504659</td>\n",
       "      <td>3.511568</td>\n",
       "    </tr>\n",
       "    <tr>\n",
       "      <th>6</th>\n",
       "      <td>4.210791</td>\n",
       "      <td>4.024393</td>\n",
       "      <td>3.846910</td>\n",
       "      <td>3.607266</td>\n",
       "      <td>3.612112</td>\n",
       "    </tr>\n",
       "    <tr>\n",
       "      <th>7</th>\n",
       "      <td>4.296149</td>\n",
       "      <td>4.104749</td>\n",
       "      <td>3.907734</td>\n",
       "      <td>3.658872</td>\n",
       "      <td>3.662234</td>\n",
       "    </tr>\n",
       "    <tr>\n",
       "      <th>8</th>\n",
       "      <td>4.397482</td>\n",
       "      <td>4.224727</td>\n",
       "      <td>3.976829</td>\n",
       "      <td>3.753108</td>\n",
       "      <td>3.754670</td>\n",
       "    </tr>\n",
       "    <tr>\n",
       "      <th>9</th>\n",
       "      <td>4.501179</td>\n",
       "      <td>4.317364</td>\n",
       "      <td>4.094124</td>\n",
       "      <td>3.832907</td>\n",
       "      <td>3.833010</td>\n",
       "    </tr>\n",
       "    <tr>\n",
       "      <th>10</th>\n",
       "      <td>4.618639</td>\n",
       "      <td>4.454544</td>\n",
       "      <td>4.195097</td>\n",
       "      <td>3.915868</td>\n",
       "      <td>3.919228</td>\n",
       "    </tr>\n",
       "    <tr>\n",
       "      <th>11</th>\n",
       "      <td>4.757838</td>\n",
       "      <td>4.557449</td>\n",
       "      <td>4.306236</td>\n",
       "      <td>3.997730</td>\n",
       "      <td>4.002309</td>\n",
       "    </tr>\n",
       "    <tr>\n",
       "      <th>12</th>\n",
       "      <td>4.854073</td>\n",
       "      <td>4.645771</td>\n",
       "      <td>4.424666</td>\n",
       "      <td>4.072330</td>\n",
       "      <td>4.082126</td>\n",
       "    </tr>\n",
       "    <tr>\n",
       "      <th>13</th>\n",
       "      <td>4.863133</td>\n",
       "      <td>4.725077</td>\n",
       "      <td>4.523119</td>\n",
       "      <td>4.137114</td>\n",
       "      <td>4.158619</td>\n",
       "    </tr>\n",
       "    <tr>\n",
       "      <th>14</th>\n",
       "      <td>5.096765</td>\n",
       "      <td>4.872130</td>\n",
       "      <td>4.607871</td>\n",
       "      <td>4.239071</td>\n",
       "      <td>4.300946</td>\n",
       "    </tr>\n",
       "    <tr>\n",
       "      <th>15</th>\n",
       "      <td>5.126468</td>\n",
       "      <td>4.963740</td>\n",
       "      <td>4.692463</td>\n",
       "      <td>4.277292</td>\n",
       "      <td>4.426444</td>\n",
       "    </tr>\n",
       "    <tr>\n",
       "      <th>16</th>\n",
       "      <td>5.224584</td>\n",
       "      <td>5.086624</td>\n",
       "      <td>4.786464</td>\n",
       "      <td>4.379518</td>\n",
       "      <td>4.600413</td>\n",
       "    </tr>\n",
       "    <tr>\n",
       "      <th>17</th>\n",
       "      <td>5.350270</td>\n",
       "      <td>5.135082</td>\n",
       "      <td>4.899158</td>\n",
       "      <td>4.441880</td>\n",
       "      <td>4.813183</td>\n",
       "    </tr>\n",
       "    <tr>\n",
       "      <th>18</th>\n",
       "      <td>5.345630</td>\n",
       "      <td>5.209982</td>\n",
       "      <td>4.933161</td>\n",
       "      <td>4.489636</td>\n",
       "      <td>4.946658</td>\n",
       "    </tr>\n",
       "  </tbody>\n",
       "</table>\n",
       "</div>"
      ],
      "text/plain": [
       "           0         1         2         3         4\n",
       "0   3.325303  3.152916  3.048950  2.956632  2.966594\n",
       "1   3.453712  3.338311  3.191310  3.085769  3.111881\n",
       "2   3.598899  3.467672  3.311438  3.189716  3.201872\n",
       "3   3.760404  3.638880  3.472667  3.322840  3.338587\n",
       "4   3.941111  3.756387  3.608352  3.414094  3.429301\n",
       "5   4.067076  3.867279  3.728955  3.504659  3.511568\n",
       "6   4.210791  4.024393  3.846910  3.607266  3.612112\n",
       "7   4.296149  4.104749  3.907734  3.658872  3.662234\n",
       "8   4.397482  4.224727  3.976829  3.753108  3.754670\n",
       "9   4.501179  4.317364  4.094124  3.832907  3.833010\n",
       "10  4.618639  4.454544  4.195097  3.915868  3.919228\n",
       "11  4.757838  4.557449  4.306236  3.997730  4.002309\n",
       "12  4.854073  4.645771  4.424666  4.072330  4.082126\n",
       "13  4.863133  4.725077  4.523119  4.137114  4.158619\n",
       "14  5.096765  4.872130  4.607871  4.239071  4.300946\n",
       "15  5.126468  4.963740  4.692463  4.277292  4.426444\n",
       "16  5.224584  5.086624  4.786464  4.379518  4.600413\n",
       "17  5.350270  5.135082  4.899158  4.441880  4.813183\n",
       "18  5.345630  5.209982  4.933161  4.489636  4.946658"
      ]
     },
     "execution_count": 41,
     "metadata": {},
     "output_type": "execute_result"
    }
   ],
   "source": [
    "pd.DataFrame(results_11_29)"
   ]
  },
  {
   "cell_type": "markdown",
   "metadata": {},
   "source": [
    "### Генерация датасетов"
   ]
  },
  {
   "cell_type": "code",
   "execution_count": 31,
   "metadata": {},
   "outputs": [],
   "source": [
    "for n in np.arange(20, 90, 10):\n",
    "    env = TSPEnv(n=n, batch_size=256)\n",
    "    env.save_graph(\"dataset_\"+str(n)+\".pkl\")"
   ]
  }
 ],
 "metadata": {
  "kernelspec": {
   "display_name": "Python 3",
   "language": "python",
   "name": "python3"
  },
  "language_info": {
   "codemirror_mode": {
    "name": "ipython",
    "version": 3
   },
   "file_extension": ".py",
   "mimetype": "text/x-python",
   "name": "python",
   "nbconvert_exporter": "python",
   "pygments_lexer": "ipython3",
   "version": "3.7.6"
  }
 },
 "nbformat": 4,
 "nbformat_minor": 4
}
