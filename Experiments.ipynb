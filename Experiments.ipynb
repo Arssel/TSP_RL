{
 "cells": [
  {
   "cell_type": "code",
   "execution_count": 1,
   "metadata": {},
   "outputs": [],
   "source": [
    "%load_ext autoreload\n",
    "\n",
    "%autoreload 2"
   ]
  },
  {
   "cell_type": "markdown",
   "metadata": {},
   "source": [
    "## Learning Improvement Heuristics for Solving the Travelling Salesman Problem (13)\n",
    "\n",
    "Задача состояла в воспроизведении результатов статьи https://arxiv.org/pdf/1912.05784v1.pdf. Статья посвящена улучшению имеющихся решений проблемы коммивояжера с евклидовыми расстояниями между точками с использованием обучения с подкреплением. Были написаны среда и модель для проведения экспериментов. Был написан модуль обучения, но в проведенных экспериментах не получилось достичь точности рассматриваемых авторами solver'ов. Сравнение проивзодилось с API от компании Google OR-Tools."
   ]
  },
  {
   "cell_type": "markdown",
   "metadata": {},
   "source": [
    "### Постановка задачи\n",
    "Опишем среду, действия и награды:\n",
    "1. Множество состояний среды - множество всевозможных перестановок $n$ точек. \n",
    "2. Действия - обращения порядка следования точек в заданной перестановке между двумя выбранными точками.\n",
    "3. Награда - в случае уменьшения суммарного расстояния между точками - разница между суммарным расстоянием до изменения и после, в случае увеличения/не изменения - ноль. \n",
    "\n",
    "В качестве алгоритма обучения использовался Actor-Critic с forward-view равным $k$. "
   ]
  },
  {
   "cell_type": "code",
   "execution_count": 2,
   "metadata": {},
   "outputs": [],
   "source": [
    "from src.architectures import Actor, Critic\n",
    "from src.environment import TSPEnv\n",
    "from src.train import train, train_one_batch\n",
    "from src.heuristics import compute_distance, insert_heuristic, nearest_neighbour\n",
    "from src.utils import sample_nodes\n",
    "from src.presentation import test_metric_by_graph_size, compute_actor_distance\n",
    "\n",
    "import torch\n",
    "import numpy as np\n",
    "import pandas as pd\n",
    "from matplotlib import pyplot as plt\n",
    "import timeit\n",
    "import pickle\n",
    "from tqdm import tqdm"
   ]
  },
  {
   "cell_type": "code",
   "execution_count": 3,
   "metadata": {},
   "outputs": [],
   "source": [
    "device = torch.device('cuda' if torch.cuda.is_available() else 'cpu')"
   ]
  },
  {
   "cell_type": "markdown",
   "metadata": {},
   "source": [
    "### Использованные гиперпараметры\n",
    "\n",
    "Размер графа - 20 точек. Для каждой эпохи генерируется 10240 графа (batch_size=256). Всего 200 эпох. Learning rate для оптимизатора Adam - $10^{-4}$. Дисконтирующий множетель наград - 0.99. Число шагов в farward-view - 4. Длительность улучшения решения - 200 шагов."
   ]
  },
  {
   "cell_type": "code",
   "execution_count": null,
   "metadata": {},
   "outputs": [],
   "source": [
    "batch_size = 256\n",
    "TSP_size = 20"
   ]
  },
  {
   "cell_type": "code",
   "execution_count": null,
   "metadata": {},
   "outputs": [],
   "source": [
    "actor = Actor().to(device)\n",
    "critic = Critic(batch_size=batch_size, n=TSP_size).to(device)"
   ]
  },
  {
   "cell_type": "code",
   "execution_count": null,
   "metadata": {},
   "outputs": [],
   "source": [
    "train_one_batch(actor, critic, device, batch_size=batch_size, epochs=1, TSP_size=TSP_size, batch_times=40)"
   ]
  },
  {
   "cell_type": "code",
   "execution_count": null,
   "metadata": {},
   "outputs": [],
   "source": [
    "train(actor, critic, device, batch_size=batch_size, epochs=200, TSP_size=TSP_size, batch_times=40)"
   ]
  },
  {
   "cell_type": "code",
   "execution_count": null,
   "metadata": {},
   "outputs": [],
   "source": [
    "torch.save(actor, './models/actor_20_new')"
   ]
  },
  {
   "cell_type": "code",
   "execution_count": null,
   "metadata": {},
   "outputs": [],
   "source": [
    "torch.save(critic, './models/critic_20_new')"
   ]
  },
  {
   "cell_type": "markdown",
   "metadata": {},
   "source": [
    "## Исследование различий в метриках"
   ]
  },
  {
   "cell_type": "code",
   "execution_count": 4,
   "metadata": {},
   "outputs": [
    {
     "data": {
      "text/plain": [
       "Actor(\n",
       "  (linear_embedding): LinearEmbedding(\n",
       "    (projection): Linear(in_features=2, out_features=128, bias=True)\n",
       "  )\n",
       "  (encoder): Encoder(\n",
       "    (encoder_layers): ModuleList(\n",
       "      (0): EncoderLayer(\n",
       "        (s_att): AttentionLayer(\n",
       "          (linear_v): Linear(in_features=128, out_features=128, bias=True)\n",
       "          (linear_q): Linear(in_features=128, out_features=128, bias=True)\n",
       "          (linear_k): Linear(in_features=128, out_features=128, bias=True)\n",
       "        )\n",
       "        (batch_norm_1): BatchNorm1d(128, eps=1e-05, momentum=0.1, affine=True, track_running_stats=True)\n",
       "        (batch_norm_2): BatchNorm1d(128, eps=1e-05, momentum=0.1, affine=True, track_running_stats=True)\n",
       "        (ff): Sequential(\n",
       "          (0): Linear(in_features=128, out_features=512, bias=True)\n",
       "          (1): ReLU()\n",
       "          (2): Linear(in_features=512, out_features=128, bias=True)\n",
       "        )\n",
       "      )\n",
       "      (1): EncoderLayer(\n",
       "        (s_att): AttentionLayer(\n",
       "          (linear_v): Linear(in_features=128, out_features=128, bias=True)\n",
       "          (linear_q): Linear(in_features=128, out_features=128, bias=True)\n",
       "          (linear_k): Linear(in_features=128, out_features=128, bias=True)\n",
       "        )\n",
       "        (batch_norm_1): BatchNorm1d(128, eps=1e-05, momentum=0.1, affine=True, track_running_stats=True)\n",
       "        (batch_norm_2): BatchNorm1d(128, eps=1e-05, momentum=0.1, affine=True, track_running_stats=True)\n",
       "        (ff): Sequential(\n",
       "          (0): Linear(in_features=128, out_features=512, bias=True)\n",
       "          (1): ReLU()\n",
       "          (2): Linear(in_features=512, out_features=128, bias=True)\n",
       "        )\n",
       "      )\n",
       "      (2): EncoderLayer(\n",
       "        (s_att): AttentionLayer(\n",
       "          (linear_v): Linear(in_features=128, out_features=128, bias=True)\n",
       "          (linear_q): Linear(in_features=128, out_features=128, bias=True)\n",
       "          (linear_k): Linear(in_features=128, out_features=128, bias=True)\n",
       "        )\n",
       "        (batch_norm_1): BatchNorm1d(128, eps=1e-05, momentum=0.1, affine=True, track_running_stats=True)\n",
       "        (batch_norm_2): BatchNorm1d(128, eps=1e-05, momentum=0.1, affine=True, track_running_stats=True)\n",
       "        (ff): Sequential(\n",
       "          (0): Linear(in_features=128, out_features=512, bias=True)\n",
       "          (1): ReLU()\n",
       "          (2): Linear(in_features=512, out_features=128, bias=True)\n",
       "        )\n",
       "      )\n",
       "    )\n",
       "  )\n",
       "  (decoder): DecoderActor(\n",
       "    (linear_graph): Linear(in_features=128, out_features=128, bias=True)\n",
       "    (linear_nodes): Linear(in_features=128, out_features=128, bias=True)\n",
       "    (linear_k): Linear(in_features=128, out_features=128, bias=True)\n",
       "    (linear_q): Linear(in_features=128, out_features=128, bias=True)\n",
       "  )\n",
       ")"
      ]
     },
     "execution_count": 4,
     "metadata": {},
     "output_type": "execute_result"
    }
   ],
   "source": [
    "actor = torch.load('./models/actor_50_new')\n",
    "actor.eval()"
   ]
  },
  {
   "cell_type": "code",
   "execution_count": 5,
   "metadata": {},
   "outputs": [],
   "source": [
    "f = open('distances.pkl', 'rb')\n",
    "\n",
    "distances = pickle.load(f)\n",
    "distances = np.array(distances)\n",
    "\n",
    "f.close()"
   ]
  },
  {
   "cell_type": "code",
   "execution_count": 25,
   "metadata": {},
   "outputs": [],
   "source": [
    "f = open('distances_new.pkl', 'rb')\n",
    "\n",
    "distances_new = pickle.load(f)\n",
    "distances_new = np.array(distances_new)\n",
    "\n",
    "f.close()"
   ]
  },
  {
   "cell_type": "code",
   "execution_count": 6,
   "metadata": {},
   "outputs": [],
   "source": [
    "f = open('dataset.pkl', 'rb')\n",
    "\n",
    "dataset = pickle.load(f)\n",
    "\n",
    "f.close()"
   ]
  },
  {
   "cell_type": "code",
   "execution_count": 7,
   "metadata": {},
   "outputs": [],
   "source": [
    "batch_size = 200\n",
    "TSP_size = 50\n",
    "env = TSPEnv(n=TSP_size, batch_size=batch_size)"
   ]
  },
  {
   "cell_type": "code",
   "execution_count": 14,
   "metadata": {},
   "outputs": [],
   "source": [
    "def compute_actor_distance(actor, window=1000, device='cpu', dots=None, distances=None):\n",
    "    bsz, n, _ = dots.shape\n",
    "    env = TSPEnv(n=n, batch_size=bsz)\n",
    "    env.reset()\n",
    "    env._dots = dots\n",
    "    env._distances = distances\n",
    "    observations = env.get_observations()\n",
    "    dots = torch.Tensor(dots).to(device)\n",
    "    permuted_dots = env.permute_dots(observations, dots)\n",
    "    for t in np.arange(window):\n",
    "        _, actions = sample_nodes(actor(permuted_dots))\n",
    "        observations, _, _ = env.step(actions)\n",
    "        permuted_dots = env.permute_dots(observations, dots)\n",
    "    return env.get_best_length()"
   ]
  },
  {
   "cell_type": "code",
   "execution_count": 9,
   "metadata": {},
   "outputs": [],
   "source": [
    "p_list = [1, 1.1, 1.25, 1.4, 1.5, 1.6, 1.75, 1.9, 2]"
   ]
  },
  {
   "cell_type": "code",
   "execution_count": 17,
   "metadata": {
    "collapsed": true
   },
   "outputs": [
    {
     "name": "stderr",
     "output_type": "stream",
     "text": [
      "\n",
      "\n",
      "  0%|                                                                                            | 0/9 [00:00<?, ?it/s]\u001b[A\u001b[A\n",
      "\n",
      " 11%|█████████▏                                                                         | 1/9 [04:32<36:17, 272.18s/it]\u001b[A\u001b[A\n",
      "\n",
      " 22%|██████████████████▍                                                                | 2/9 [09:02<31:40, 271.48s/it]\u001b[A\u001b[A\n",
      "\n",
      " 33%|███████████████████████████▋                                                       | 3/9 [13:25<26:53, 268.93s/it]\u001b[A\u001b[A\n",
      "\n",
      " 44%|████████████████████████████████████▉                                              | 4/9 [17:43<22:09, 265.83s/it]\u001b[A\u001b[A\n",
      "\n",
      " 56%|██████████████████████████████████████████████                                     | 5/9 [22:03<17:36, 264.17s/it]\u001b[A\u001b[A\n",
      "\n",
      " 67%|███████████████████████████████████████████████████████▎                           | 6/9 [26:24<13:09, 263.22s/it]\u001b[A\u001b[A\n",
      "\n",
      " 78%|████████████████████████████████████████████████████████████████▌                  | 7/9 [30:53<08:49, 264.78s/it]\u001b[A\u001b[A\n",
      "\n",
      " 89%|█████████████████████████████████████████████████████████████████████████▊         | 8/9 [35:20<04:25, 265.49s/it]\u001b[A\u001b[A\n",
      "\n",
      "100%|███████████████████████████████████████████████████████████████████████████████████| 9/9 [39:49<00:00, 265.52s/it]\u001b[A\u001b[A\n"
     ]
    }
   ],
   "source": [
    "model_results = np.zeros((len(p_list), 2000//batch_size))\n",
    "for p in tqdm(range(len(p_list))):\n",
    "    for b in range(2000//batch_size):\n",
    "        model_results[p, b] = compute_actor_distance(actor,\\\n",
    "                               window=1000,\\\n",
    "                               device=device,\\\n",
    "                               dots=dataset[b*batch_size:b*batch_size+batch_size],\\\n",
    "                               distances=distances[p, b*batch_size:b*batch_size+batch_size]).mean()"
   ]
  },
  {
   "cell_type": "code",
   "execution_count": 26,
   "metadata": {
    "collapsed": true
   },
   "outputs": [
    {
     "name": "stderr",
     "output_type": "stream",
     "text": [
      "\n",
      "\n",
      "  0%|                                                                                            | 0/9 [00:00<?, ?it/s]\u001b[A\u001b[A\n",
      "\n",
      " 11%|█████████▏                                                                         | 1/9 [04:06<32:50, 246.30s/it]\u001b[A\u001b[A\n",
      "\n",
      " 22%|██████████████████▍                                                                | 2/9 [08:21<29:02, 248.91s/it]\u001b[A\u001b[A\n",
      "\n",
      " 33%|███████████████████████████▋                                                       | 3/9 [12:38<25:08, 251.46s/it]\u001b[A\u001b[A\n",
      "\n",
      " 44%|████████████████████████████████████▉                                              | 4/9 [17:03<21:16, 255.38s/it]\u001b[A\u001b[A\n",
      "\n",
      " 56%|██████████████████████████████████████████████                                     | 5/9 [21:16<16:59, 254.89s/it]\u001b[A\u001b[A\n",
      "\n",
      " 67%|███████████████████████████████████████████████████████▎                           | 6/9 [25:28<12:42, 254.02s/it]\u001b[A\u001b[A"
     ]
    },
    {
     "ename": "IndexError",
     "evalue": "index 6 is out of bounds for axis 0 with size 6",
     "output_type": "error",
     "traceback": [
      "\u001b[1;31m---------------------------------------------------------------------------\u001b[0m",
      "\u001b[1;31mIndexError\u001b[0m                                Traceback (most recent call last)",
      "\u001b[1;32m<ipython-input-26-4f7e658f0de8>\u001b[0m in \u001b[0;36m<module>\u001b[1;34m\u001b[0m\n\u001b[0;32m      6\u001b[0m                                \u001b[0mdevice\u001b[0m\u001b[1;33m=\u001b[0m\u001b[0mdevice\u001b[0m\u001b[1;33m,\u001b[0m\u001b[0;31m\\\u001b[0m\u001b[1;33m\u001b[0m\u001b[1;33m\u001b[0m\u001b[0m\n\u001b[0;32m      7\u001b[0m                                \u001b[0mdots\u001b[0m\u001b[1;33m=\u001b[0m\u001b[0mdataset\u001b[0m\u001b[1;33m[\u001b[0m\u001b[0mb\u001b[0m\u001b[1;33m*\u001b[0m\u001b[0mbatch_size\u001b[0m\u001b[1;33m:\u001b[0m\u001b[0mb\u001b[0m\u001b[1;33m*\u001b[0m\u001b[0mbatch_size\u001b[0m\u001b[1;33m+\u001b[0m\u001b[0mbatch_size\u001b[0m\u001b[1;33m]\u001b[0m\u001b[1;33m,\u001b[0m\u001b[0;31m\\\u001b[0m\u001b[1;33m\u001b[0m\u001b[1;33m\u001b[0m\u001b[0m\n\u001b[1;32m----> 8\u001b[1;33m                                distances=distances_new[p, b*batch_size:b*batch_size+batch_size]).mean()\n\u001b[0m",
      "\u001b[1;31mIndexError\u001b[0m: index 6 is out of bounds for axis 0 with size 6"
     ]
    }
   ],
   "source": [
    "model_results_new = np.zeros((len(p_list), 2000//batch_size))\n",
    "for p in tqdm(range(len(p_list))):\n",
    "    for b in range(2000//batch_size):\n",
    "        model_results_new[p, b] = compute_actor_distance(actor,\\\n",
    "                               window=1000,\\\n",
    "                               device=device,\\\n",
    "                               dots=dataset[b*batch_size:b*batch_size+batch_size],\\\n",
    "                               distances=distances_new[p, b*batch_size:b*batch_size+batch_size]).mean()"
   ]
  },
  {
   "cell_type": "code",
   "execution_count": 27,
   "metadata": {},
   "outputs": [],
   "source": [
    "model_results_2 = np.array([model_results.mean(axis=1)[0],\n",
    "                            model_results_new.mean(axis=1)[0],\n",
    "                            model_results_new.mean(axis=1)[1],\n",
    "                            model_results_new.mean(axis=1)[2],\n",
    "                            model_results.mean(axis=1)[1],\n",
    "                            model_results_new.mean(axis=1)[3],\n",
    "                            model_results_new.mean(axis=1)[4],\n",
    "                            model_results_new.mean(axis=1)[5],\n",
    "                            model_results.mean(axis=1)[2]])"
   ]
  },
  {
   "cell_type": "code",
   "execution_count": 33,
   "metadata": {},
   "outputs": [],
   "source": [
    "ortools_results = pd.read_csv('TOURS_RES+ORTOOLS.CSV', sep=';').to_numpy()[:,1:]"
   ]
  },
  {
   "cell_type": "code",
   "execution_count": 34,
   "metadata": {},
   "outputs": [],
   "source": [
    "ortools_results_new = pd.read_csv('TOURS_RES+ORTOOLS_new.CSV', sep=';').to_numpy()[:,1:]"
   ]
  },
  {
   "cell_type": "code",
   "execution_count": 35,
   "metadata": {},
   "outputs": [],
   "source": [
    "ortools_results_2 = np.array([ortools_results.mean(axis=1)[0],\n",
    "                            ortools_results_new.mean(axis=1)[0],\n",
    "                            ortools_results_new.mean(axis=1)[1],\n",
    "                            ortools_results_new.mean(axis=1)[2],\n",
    "                            ortools_results.mean(axis=1)[1],\n",
    "                            ortools_results_new.mean(axis=1)[3],\n",
    "                            ortools_results_new.mean(axis=1)[4],\n",
    "                            ortools_results_new.mean(axis=1)[5],\n",
    "                            ortools_results.mean(axis=1)[2]])"
   ]
  },
  {
   "cell_type": "code",
   "execution_count": 36,
   "metadata": {},
   "outputs": [
    {
     "data": {
      "image/png": "[encoded data removed]",
      "text/plain": [
       "<Figure size 576x576 with 1 Axes>"
      ]
     },
     "metadata": {
      "needs_background": "light"
     },
     "output_type": "display_data"
    }
   ],
   "source": [
    "fig = plt.figure(figsize=(8,8))\n",
    "pd.Series(1 - ortools_results_2/model_results_2, index=p_list).plot.bar()\n",
    "plt.xlabel('p', fontsize=16)\n",
    "plt.ylabel('gap', fontsize=16)\n",
    "plt.title('Gap between model and OR-tools for different metric')\n",
    "plt.savefig('L2I_gap.jpg')"
   ]
  },
  {
   "cell_type": "markdown",
   "metadata": {},
   "source": [
    "### Замеры времени (20)"
   ]
  },
  {
   "cell_type": "code",
   "execution_count": null,
   "metadata": {
    "scrolled": true
   },
   "outputs": [],
   "source": [
    "actor = torch.load('./models/actor_20_new')\n",
    "actor.eval()"
   ]
  },
  {
   "cell_type": "code",
   "execution_count": null,
   "metadata": {},
   "outputs": [],
   "source": [
    "n = 20\n",
    "batch_size = 256\n",
    "env = TSPEnv(n=n, batch_size=batch_size)"
   ]
  },
  {
   "cell_type": "markdown",
   "metadata": {},
   "source": [
    "#### 1000 шагов улучшения:"
   ]
  },
  {
   "cell_type": "code",
   "execution_count": null,
   "metadata": {},
   "outputs": [],
   "source": [
    "%%time\n",
    "env.reset(ret=False)\n",
    "actor_distance_1000 = compute_actor_distance(actor, env, 1000, 'cuda')"
   ]
  },
  {
   "cell_type": "code",
   "execution_count": null,
   "metadata": {},
   "outputs": [],
   "source": [
    "timeit.timeit(lambda: compute_actor_distance(actor, env, 1000, 'cuda'), number=20)"
   ]
  },
  {
   "cell_type": "code",
   "execution_count": null,
   "metadata": {},
   "outputs": [],
   "source": [
    "356.41708169999765/20"
   ]
  },
  {
   "cell_type": "markdown",
   "metadata": {},
   "source": [
    "#### 3000 шагов улучшения:"
   ]
  },
  {
   "cell_type": "code",
   "execution_count": null,
   "metadata": {},
   "outputs": [],
   "source": [
    "%%time\n",
    "env.reset(ret=False)\n",
    "actor_distance_3000 = compute_actor_distance(actor, env, 3000, 'cuda')"
   ]
  },
  {
   "cell_type": "code",
   "execution_count": null,
   "metadata": {},
   "outputs": [],
   "source": [
    "timeit.timeit(lambda: compute_actor_distance(actor, env, 3000, 'cuda'), number=20)"
   ]
  },
  {
   "cell_type": "code",
   "execution_count": null,
   "metadata": {},
   "outputs": [],
   "source": [
    "1077.4684396000084/20"
   ]
  },
  {
   "cell_type": "markdown",
   "metadata": {},
   "source": [
    "#### 5000 шагов улучшения:"
   ]
  },
  {
   "cell_type": "code",
   "execution_count": null,
   "metadata": {},
   "outputs": [],
   "source": [
    "%%time\n",
    "env.reset(ret=False)\n",
    "actor_distance_5000 = compute_actor_distance(actor, env, 5000, 'cuda')"
   ]
  },
  {
   "cell_type": "code",
   "execution_count": null,
   "metadata": {},
   "outputs": [],
   "source": [
    "timeit.timeit(lambda: compute_actor_distance(actor, env, 5000, 'cuda'), number=20)"
   ]
  },
  {
   "cell_type": "code",
   "execution_count": null,
   "metadata": {},
   "outputs": [],
   "source": [
    "1763/20"
   ]
  },
  {
   "cell_type": "markdown",
   "metadata": {},
   "source": [
    "Результаты:"
   ]
  },
  {
   "cell_type": "code",
   "execution_count": null,
   "metadata": {},
   "outputs": [],
   "source": [
    "print('1000 steps:', actor_distance_1000.mean())\n",
    "print('3000 steps:', actor_distance_3000.mean())\n",
    "print('5000 steps:', actor_distance_5000.mean())"
   ]
  },
  {
   "cell_type": "markdown",
   "metadata": {},
   "source": [
    "#### OR-tools"
   ]
  },
  {
   "cell_type": "code",
   "execution_count": null,
   "metadata": {},
   "outputs": [],
   "source": [
    "dots = env.get_dots()\n",
    "distances = env.get_distances()"
   ]
  },
  {
   "cell_type": "code",
   "execution_count": null,
   "metadata": {},
   "outputs": [],
   "source": [
    "%%time\n",
    "time_limit = 17.8/batch_size\n",
    "or_1000_distances = []\n",
    "for i in range(batch_size):\n",
    "    or_1000_distances.append(compute_distance(distances[i], time_limit=time_limit))"
   ]
  },
  {
   "cell_type": "code",
   "execution_count": null,
   "metadata": {},
   "outputs": [],
   "source": [
    "%%time\n",
    "time_limit = 53.8/batch_size\n",
    "or_3000_distances = []\n",
    "for i in range(batch_size):\n",
    "    or_3000_distances.append(compute_distance(distances[i], time_limit=time_limit))"
   ]
  },
  {
   "cell_type": "code",
   "execution_count": null,
   "metadata": {},
   "outputs": [],
   "source": [
    "%%time\n",
    "time_limit = 88.15/batch_size\n",
    "or_3000_distances = []\n",
    "for i in range(batch_size):\n",
    "    or_3000_distances.append(compute_distance(distances[i], time_limit=time_limit))"
   ]
  },
  {
   "cell_type": "code",
   "execution_count": null,
   "metadata": {},
   "outputs": [],
   "source": [
    "print(np.mean(or_1000_distances))\n",
    "print(np.mean(or_3000_distances))\n",
    "print(np.mean(or_5000_distances))"
   ]
  },
  {
   "cell_type": "markdown",
   "metadata": {},
   "source": [
    "### Замеры времени (50)"
   ]
  },
  {
   "cell_type": "code",
   "execution_count": null,
   "metadata": {},
   "outputs": [],
   "source": [
    "actor = torch.load('./models/actor_50_new')\n",
    "actor.eval()"
   ]
  },
  {
   "cell_type": "code",
   "execution_count": null,
   "metadata": {},
   "outputs": [],
   "source": [
    "n = 50\n",
    "batch_size = 256\n",
    "env = TSPEnv(n=n, batch_size=batch_size)"
   ]
  },
  {
   "cell_type": "markdown",
   "metadata": {},
   "source": [
    "#### 1000 шагов улучшения:"
   ]
  },
  {
   "cell_type": "code",
   "execution_count": null,
   "metadata": {},
   "outputs": [],
   "source": [
    "%%time\n",
    "env.reset(ret=False)\n",
    "actor_distance_1000 = compute_actor_distance(actor, env, 1000, 'cuda')"
   ]
  },
  {
   "cell_type": "code",
   "execution_count": null,
   "metadata": {},
   "outputs": [],
   "source": [
    "timeit.timeit(lambda: compute_actor_distance(actor, env, 1000, 'cuda'), number=20)"
   ]
  },
  {
   "cell_type": "code",
   "execution_count": null,
   "metadata": {},
   "outputs": [],
   "source": [
    "707.4920411/20"
   ]
  },
  {
   "cell_type": "markdown",
   "metadata": {},
   "source": [
    "#### 3000 шагов улучшения:"
   ]
  },
  {
   "cell_type": "code",
   "execution_count": null,
   "metadata": {},
   "outputs": [],
   "source": [
    "%%time\n",
    "env.reset(ret=False)\n",
    "actor_distance_3000 = compute_actor_distance(actor, env, 3000, 'cuda')"
   ]
  },
  {
   "cell_type": "code",
   "execution_count": null,
   "metadata": {},
   "outputs": [],
   "source": [
    "timeit.timeit(lambda: compute_actor_distance(actor, env, 3000, 'cuda'), number=20)"
   ]
  },
  {
   "cell_type": "code",
   "execution_count": null,
   "metadata": {},
   "outputs": [],
   "source": [
    "2151.0882115/20"
   ]
  },
  {
   "cell_type": "markdown",
   "metadata": {},
   "source": [
    "#### 5000 шагов улучшения:"
   ]
  },
  {
   "cell_type": "code",
   "execution_count": null,
   "metadata": {},
   "outputs": [],
   "source": [
    "%%time\n",
    "env.reset(ret=False)\n",
    "actor_distance_5000 = compute_actor_distance(actor, env, 5000, 'cuda')"
   ]
  },
  {
   "cell_type": "code",
   "execution_count": null,
   "metadata": {},
   "outputs": [],
   "source": [
    "timeit.timeit(lambda: compute_actor_distance(actor, env, 5000, 'cuda'), number=20)"
   ]
  },
  {
   "cell_type": "code",
   "execution_count": null,
   "metadata": {},
   "outputs": [],
   "source": [
    "3547.4055358000005/20"
   ]
  },
  {
   "cell_type": "markdown",
   "metadata": {},
   "source": [
    "Средний результат:"
   ]
  },
  {
   "cell_type": "code",
   "execution_count": null,
   "metadata": {},
   "outputs": [],
   "source": [
    "print('1000 steps:', actor_distance_1000.mean())\n",
    "print('3000 steps:', actor_distance_3000.mean())\n",
    "print('5000 steps:', actor_distance_5000.mean())"
   ]
  },
  {
   "cell_type": "code",
   "execution_count": null,
   "metadata": {},
   "outputs": [],
   "source": [
    "dots = env.get_dots()\n",
    "distances = env.get_distances()"
   ]
  },
  {
   "cell_type": "markdown",
   "metadata": {},
   "source": [
    "#### OR-tools"
   ]
  },
  {
   "cell_type": "code",
   "execution_count": null,
   "metadata": {},
   "outputs": [],
   "source": [
    "%%time\n",
    "time_limit = 35.3/batch_size\n",
    "or_1000_distances = []\n",
    "for i in range(batch_size):\n",
    "    or_1000_distances.append(compute_distance(distances[i], time_limit=time_limit))"
   ]
  },
  {
   "cell_type": "code",
   "execution_count": null,
   "metadata": {},
   "outputs": [],
   "source": [
    "%%time\n",
    "time_limit = 107/batch_size\n",
    "or_3000_distances = []\n",
    "for i in range(batch_size):\n",
    "    or_3000_distances.append(compute_distance(distances[i], time_limit=time_limit))"
   ]
  },
  {
   "cell_type": "code",
   "execution_count": null,
   "metadata": {},
   "outputs": [],
   "source": [
    "%%time\n",
    "time_limit = 177/batch_size\n",
    "or_5000_distances = []\n",
    "for i in range(batch_size):\n",
    "    or_5000_distances.append(compute_distance(distances[i], time_limit=time_limit))"
   ]
  },
  {
   "cell_type": "markdown",
   "metadata": {},
   "source": [
    "Результаты:"
   ]
  },
  {
   "cell_type": "code",
   "execution_count": null,
   "metadata": {},
   "outputs": [],
   "source": [
    "print(np.mean(or_1000_distances))\n",
    "print(np.mean(or_3000_distances))\n",
    "print(np.mean(or_5000_distances))"
   ]
  },
  {
   "cell_type": "code",
   "execution_count": null,
   "metadata": {},
   "outputs": [],
   "source": [
    "n = 20\n",
    "batch_size = 1\n",
    "env = TSPEnv(n=n, batch_size=batch_size)"
   ]
  },
  {
   "cell_type": "code",
   "execution_count": null,
   "metadata": {},
   "outputs": [],
   "source": [
    "actor = torch.load('./models/actor_20_new')\n",
    "actor.eval()"
   ]
  },
  {
   "cell_type": "code",
   "execution_count": null,
   "metadata": {},
   "outputs": [],
   "source": [
    "timeit.timeit(lambda: compute_actor_distance(actor, env, 1000, 'cuda'), number=20)"
   ]
  },
  {
   "cell_type": "code",
   "execution_count": null,
   "metadata": {},
   "outputs": [],
   "source": [
    "timeit.timeit(lambda: compute_actor_distance(actor, env, 3000, 'cuda'), number=20)"
   ]
  },
  {
   "cell_type": "code",
   "execution_count": null,
   "metadata": {},
   "outputs": [],
   "source": [
    "timeit.timeit(lambda: compute_actor_distance(actor, env, 5000, 'cuda'), number=20)"
   ]
  },
  {
   "cell_type": "code",
   "execution_count": null,
   "metadata": {},
   "outputs": [],
   "source": [
    "n = 50\n",
    "batch_size = 1\n",
    "env = TSPEnv(n=n, batch_size=batch_size)"
   ]
  },
  {
   "cell_type": "code",
   "execution_count": null,
   "metadata": {},
   "outputs": [],
   "source": [
    "actor = torch.load('./models/actor_50_new')\n",
    "actor.eval()"
   ]
  },
  {
   "cell_type": "code",
   "execution_count": null,
   "metadata": {},
   "outputs": [],
   "source": [
    "timeit.timeit(lambda: compute_actor_distance(actor, env, 1000, 'cuda'), number=20)"
   ]
  },
  {
   "cell_type": "code",
   "execution_count": null,
   "metadata": {},
   "outputs": [],
   "source": [
    "timeit.timeit(lambda: compute_actor_distance(actor, env, 3000, 'cuda'), number=20)"
   ]
  },
  {
   "cell_type": "code",
   "execution_count": null,
   "metadata": {},
   "outputs": [],
   "source": [
    "timeit.timeit(lambda: compute_actor_distance(actor, env, 5000, 'cuda'), number=20)"
   ]
  },
  {
   "cell_type": "markdown",
   "metadata": {},
   "source": [
    "### Сравнение на новом графе (50)\n",
    "\n",
    "Случайно инициализированный граф, на котором в течение 5000 шагов производится улучшение случайного начального."
   ]
  },
  {
   "cell_type": "code",
   "execution_count": null,
   "metadata": {},
   "outputs": [],
   "source": [
    "actor = torch.load('./models/actor_50_new')\n",
    "actor.eval()"
   ]
  },
  {
   "cell_type": "code",
   "execution_count": null,
   "metadata": {},
   "outputs": [],
   "source": [
    "n_space = np.arange(41, 60)"
   ]
  },
  {
   "cell_type": "code",
   "execution_count": null,
   "metadata": {
    "scrolled": true
   },
   "outputs": [],
   "source": [
    "results_41_59 = test_metric_by_graph_size(actor, n_space, number_of_graphs=256, window=5000, device='cuda')"
   ]
  },
  {
   "cell_type": "code",
   "execution_count": null,
   "metadata": {},
   "outputs": [],
   "source": [
    "pd.DataFrame(results_41_59).to_csv('results_41_59.csv')"
   ]
  },
  {
   "cell_type": "markdown",
   "metadata": {},
   "source": [
    "### Сравнение на новом графе (20)"
   ]
  },
  {
   "cell_type": "code",
   "execution_count": null,
   "metadata": {},
   "outputs": [],
   "source": [
    "actor = torch.load('./models/actor_20_new')\n",
    "actor.eval()"
   ]
  },
  {
   "cell_type": "code",
   "execution_count": null,
   "metadata": {},
   "outputs": [],
   "source": [
    "n_space = np.arange(11, 30)"
   ]
  },
  {
   "cell_type": "code",
   "execution_count": null,
   "metadata": {
    "scrolled": true
   },
   "outputs": [],
   "source": [
    "results_11_29 = test_metric_by_graph_size(actor, n_space, number_of_graphs=256, window=5000, device='cuda')"
   ]
  },
  {
   "cell_type": "code",
   "execution_count": null,
   "metadata": {},
   "outputs": [],
   "source": [
    "pd.DataFrame(results_11_29).to_csv('results_11_29.csv')"
   ]
  },
  {
   "cell_type": "markdown",
   "metadata": {},
   "source": [
    "### Генерация датасетов"
   ]
  },
  {
   "cell_type": "code",
   "execution_count": null,
   "metadata": {},
   "outputs": [],
   "source": [
    "for n in np.arange(20, 90, 10):\n",
    "    env = TSPEnv(n=n, batch_size=256)\n",
    "    env.save_graph(\"dataset_\"+str(n)+\".pkl\")"
   ]
  },
  {
   "cell_type": "markdown",
   "metadata": {},
   "source": [
    "### Графики обощения"
   ]
  },
  {
   "cell_type": "code",
   "execution_count": null,
   "metadata": {},
   "outputs": [],
   "source": [
    "from matplotlib import pyplot as plt"
   ]
  },
  {
   "cell_type": "code",
   "execution_count": null,
   "metadata": {},
   "outputs": [],
   "source": [
    "df_50 = pd.read_csv('./results/results_50.csv', index_col=0)\n",
    "df_20 = pd.read_csv('./results/results_20.csv', index_col=0)\n",
    "df_10_30 = pd.read_csv('./results/results_11_29.csv', index_col=0)\n",
    "df_40_60 = pd.read_csv('./results/results_41_59.csv', index_col=0)"
   ]
  },
  {
   "cell_type": "code",
   "execution_count": null,
   "metadata": {},
   "outputs": [],
   "source": [
    "columns = ['nearest_neighbour', 'closest_heuristic', 'farthest_heuristic', 'or-tools', 'model']"
   ]
  },
  {
   "cell_type": "code",
   "execution_count": null,
   "metadata": {},
   "outputs": [],
   "source": [
    "index_50 = np.arange(20, 90, 10)\n",
    "index_10_30 = np.arange(11, 30)\n",
    "index_40_60 = np.arange(41, 60)"
   ]
  },
  {
   "cell_type": "code",
   "execution_count": null,
   "metadata": {},
   "outputs": [],
   "source": [
    "df_50.columns = columns\n",
    "df_50.index = index_50\n",
    "df_20.columns = columns\n",
    "df_20.index = index_50\n",
    "df_10_30.columns = columns\n",
    "df_10_30.index = index_10_30\n",
    "df_40_60.columns = columns\n",
    "df_40_60.index = index_40_60"
   ]
  },
  {
   "cell_type": "code",
   "execution_count": null,
   "metadata": {},
   "outputs": [],
   "source": [
    "fig = plt.figure(figsize=(8,8))\n",
    "plt.plot(df_10_30)\n",
    "plt.title('TSP20 for 11-29')\n",
    "plt.legend(columns)\n",
    "plt.grid()\n",
    "plt.xlabel('N - graph size', fontsize=20)\n",
    "plt.ylabel('Average found distance', fontsize=20)\n",
    "plt.savefig('./results/TSP20 for 11-29.png')"
   ]
  },
  {
   "cell_type": "code",
   "execution_count": null,
   "metadata": {},
   "outputs": [],
   "source": [
    "fig = plt.figure(figsize=(8,8))\n",
    "plt.plot(df_20)\n",
    "plt.title('TSP20 for 20-80')\n",
    "plt.legend(columns)\n",
    "plt.grid()\n",
    "plt.xlabel('N - graph size', fontsize=20)\n",
    "plt.ylabel('Average found distance', fontsize=20)\n",
    "plt.savefig('./results/TSP20 for 20-80.png')"
   ]
  },
  {
   "cell_type": "code",
   "execution_count": null,
   "metadata": {},
   "outputs": [],
   "source": [
    "fig = plt.figure(figsize=(8,8))\n",
    "plt.plot(df_50)\n",
    "plt.title('TSP50 for 20-80')\n",
    "plt.legend(columns)\n",
    "plt.grid()\n",
    "plt.xlabel('N - graph size', fontsize=20)\n",
    "plt.ylabel('Average found distance', fontsize=20)\n",
    "plt.savefig('./results/TSP50 for 20-80.png')"
   ]
  },
  {
   "cell_type": "code",
   "execution_count": null,
   "metadata": {},
   "outputs": [],
   "source": [
    "fig = plt.figure(figsize=(8,8))\n",
    "plt.plot(df_40_60)\n",
    "plt.title('TSP50 for 41-59')\n",
    "plt.legend(columns)\n",
    "plt.grid()\n",
    "plt.xlabel('N - graph size', fontsize=20)\n",
    "plt.ylabel('Average found distance', fontsize=20)\n",
    "plt.savefig('./results/TSP50 for 41-59.png')"
   ]
  },
  {
   "cell_type": "code",
   "execution_count": null,
   "metadata": {},
   "outputs": [],
   "source": [
    "fig = plt.figure(figsize=(8,8))\n",
    "plt.plot((df_10_30['model'] - df_10_30['or-tools'])/df_10_30['or-tools']*100)\n",
    "plt.title('TSP20 GAP for 11-29')\n",
    "plt.grid()\n",
    "plt.xlabel('N - graph size', fontsize=20)\n",
    "plt.ylabel('%', fontsize=20)\n",
    "plt.legend(['gap between model and OR-tools'])\n",
    "#plt.savefig('./results/TSP20 GAP for 11-29.png')"
   ]
  },
  {
   "cell_type": "code",
   "execution_count": null,
   "metadata": {},
   "outputs": [],
   "source": [
    "fig = plt.figure(figsize=(8,8))\n",
    "plt.plot((df_20['model'] - df_20['or-tools'])/df_20['or-tools']*100)\n",
    "plt.title('TSP20 GAP for 20-80')\n",
    "plt.grid()\n",
    "plt.xlabel('N - graph size', fontsize=20)\n",
    "plt.ylabel('%', fontsize=20)\n",
    "plt.legend(['gap between model and OR-tools'])\n",
    "plt.savefig('./results/TSP20 GAP for 20-80.png')"
   ]
  },
  {
   "cell_type": "code",
   "execution_count": null,
   "metadata": {},
   "outputs": [],
   "source": [
    "fig = plt.figure(figsize=(8,8))\n",
    "plt.plot((df_50['model'] - df_50['or-tools'])/df_50['or-tools']*100)\n",
    "plt.title('TSP50 GAP for 20-80')\n",
    "plt.grid()\n",
    "plt.xlabel('N - graph size', fontsize=20)\n",
    "plt.ylabel('%', fontsize=20)\n",
    "plt.legend(['gap between model and OR-tools'])\n",
    "plt.savefig('./results/TSP50 GAP for 20-80.png')"
   ]
  },
  {
   "cell_type": "code",
   "execution_count": null,
   "metadata": {
    "scrolled": true
   },
   "outputs": [],
   "source": [
    "fig = plt.figure(figsize=(8,8))\n",
    "plt.plot((df_40_60['model'] - df_40_60['or-tools'])/df_40_60['or-tools']*100)\n",
    "plt.title('TSP50 GAP for 41-59')\n",
    "plt.grid()\n",
    "plt.xlabel('N - graph size', fontsize=20)\n",
    "plt.ylabel('%', fontsize=20)\n",
    "plt.legend(['gap between model and OR-tools'])\n",
    "plt.savefig('./results/TSP50 GAP for 41-59.png')"
   ]
  },
  {
   "cell_type": "markdown",
   "metadata": {},
   "source": [
    "### Анимация простейших эвристик\n",
    "Для графов размера 20"
   ]
  },
  {
   "cell_type": "code",
   "execution_count": null,
   "metadata": {},
   "outputs": [],
   "source": [
    "from src.heuristics import insert_heuristic, nearest_neighbour\n",
    "from src.presentation import get_gif_animation_heuristics"
   ]
  },
  {
   "cell_type": "code",
   "execution_count": null,
   "metadata": {},
   "outputs": [],
   "source": [
    "n = 20\n",
    "env = TSPEnv(n=n, batch_size=1)\n",
    "dots = env.get_dots()\n",
    "distances = env.get_distances()"
   ]
  },
  {
   "cell_type": "markdown",
   "metadata": {},
   "source": [
    "#### Эвристики ближайшей и удаленнейшей вставки"
   ]
  },
  {
   "cell_type": "code",
   "execution_count": null,
   "metadata": {},
   "outputs": [],
   "source": [
    "interval = 1400"
   ]
  },
  {
   "cell_type": "markdown",
   "metadata": {},
   "source": [
    "Удаленнейшая вставка:"
   ]
  },
  {
   "cell_type": "code",
   "execution_count": null,
   "metadata": {},
   "outputs": [],
   "source": [
    "_, _, seq, nodes = insert_heuristic(distances)\n",
    "dots_seq = [dots[:, seq[i],:].squeeze() for i in range(len(seq))]\n",
    "one_dot_seq = [dots[:, nodes[i], :].squeeze() for i in range(len(dots_seq[0])-1, len(nodes))]"
   ]
  },
  {
   "cell_type": "code",
   "execution_count": null,
   "metadata": {},
   "outputs": [],
   "source": [
    "get_gif_animation_heuristics('./results/remote_gif_20.gif', dots_seq, one_dot_seq, interval)"
   ]
  },
  {
   "cell_type": "markdown",
   "metadata": {},
   "source": [
    "Ближайшая вставка:"
   ]
  },
  {
   "cell_type": "code",
   "execution_count": null,
   "metadata": {},
   "outputs": [],
   "source": [
    "_, _, seq, nodes = insert_heuristic(distances, insert_type='close')\n",
    "dots_seq = [dots[:, seq[i],:].squeeze() for i in range(len(seq))]\n",
    "one_dot_seq = [dots[:, nodes[i], :].squeeze() for i in range(len(dots_seq[0])-1, len(nodes))]"
   ]
  },
  {
   "cell_type": "code",
   "execution_count": null,
   "metadata": {},
   "outputs": [],
   "source": [
    "get_gif_animation_heuristics('./results/close_gif_20.gif', dots_seq, one_dot_seq, interval)"
   ]
  },
  {
   "cell_type": "markdown",
   "metadata": {},
   "source": [
    "#### Эвристика ближайшего соседа"
   ]
  },
  {
   "cell_type": "code",
   "execution_count": null,
   "metadata": {},
   "outputs": [],
   "source": [
    "_, _, seq, nodes = nearest_neighbour(distances)\n",
    "dots_seq = [dots[:, seq[i],:].squeeze() for i in range(len(seq))]\n",
    "one_dot_seq = [dots[:, nodes[i], :].squeeze() for i in range(len(dots_seq[0])-1, len(nodes))]"
   ]
  },
  {
   "cell_type": "code",
   "execution_count": null,
   "metadata": {
    "scrolled": true
   },
   "outputs": [],
   "source": [
    "get_gif_animation_heuristics('./results/nearest_neighbour_20.gif', dots_seq, one_dot_seq, interval)"
   ]
  }
 ],
 "metadata": {
  "kernelspec": {
   "display_name": "Python 3",
   "language": "python",
   "name": "python3"
  },
  "language_info": {
   "codemirror_mode": {
    "name": "ipython",
    "version": 3
   },
   "file_extension": ".py",
   "mimetype": "text/x-python",
   "name": "python",
   "nbconvert_exporter": "python",
   "pygments_lexer": "ipython3",
   "version": "3.7.6"
  }
 },
 "nbformat": 4,
 "nbformat_minor": 4
}
